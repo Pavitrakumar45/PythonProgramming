{
  "nbformat": 4,
  "nbformat_minor": 0,
  "metadata": {
    "colab": {
      "provenance": [],
      "authorship_tag": "ABX9TyOxDz2gwdMEQg39wq5P5n5I",
      "include_colab_link": true
    },
    "kernelspec": {
      "name": "python3",
      "display_name": "Python 3"
    },
    "language_info": {
      "name": "python"
    }
  },
  "cells": [
    {
      "cell_type": "markdown",
      "metadata": {
        "id": "view-in-github",
        "colab_type": "text"
      },
      "source": [
        "<a href=\"https://colab.research.google.com/github/Pavitrakumar45/PythonProgramming/blob/main/String_and_Slicing.ipynb\" target=\"_parent\"><img src=\"https://colab.research.google.com/assets/colab-badge.svg\" alt=\"Open In Colab\"/></a>"
      ]
    },
    {
      "cell_type": "code",
      "execution_count": null,
      "metadata": {
        "colab": {
          "base_uri": "https://localhost:8080/"
        },
        "id": "Lk2WXdLlAUcs",
        "outputId": "b80305c5-d588-404c-b2a2-533150fd55bc"
      },
      "outputs": [
        {
          "output_type": "stream",
          "name": "stdout",
          "text": [
            "Enter the radius of Circle : 45\n",
            "The Area of Circle is  6362.549999999999\n",
            "the circumference of circle is 282.78\n"
          ]
        }
      ],
      "source": [
        "# Calculate Area of Circle\n",
        "\n",
        "\n",
        "'''\n",
        "radius --> User\n",
        "\n",
        "Area = pi*r*r\n",
        "Circumference =  2*pi*r\n",
        "print('The area of Circle is', area)\n",
        "\n",
        "'''\n",
        "pi = 3.142\n",
        "radius = float(input('Enter the radius of Circle : '))\n",
        "area = pi*radius*radius\n",
        "\n",
        "circumference = 2*pi*radius\n",
        "print('The Area of Circle is ', area)\n",
        "print('the circumference of circle is', circumference)\n",
        "\n"
      ]
    },
    {
      "cell_type": "code",
      "source": [
        "# F string Method\n",
        "print(f'The Circumference of Circle is {circumference} mm ')\n",
        "print(f'The area of Circle is {area} mm^2')"
      ],
      "metadata": {
        "colab": {
          "base_uri": "https://localhost:8080/"
        },
        "id": "qfhUmnbODndi",
        "outputId": "ee80149a-fe73-42f5-dade-7b2d7f158b42"
      },
      "execution_count": null,
      "outputs": [
        {
          "output_type": "stream",
          "name": "stdout",
          "text": [
            "The Circumference of Circle is 282.78 mm \n",
            "The area of Circle is 6362.549999999999 mm^2\n"
          ]
        }
      ]
    },
    {
      "cell_type": "code",
      "source": [
        "str = 'Hello'\n",
        "str1 = 'World'\n",
        "\n",
        "print(str + str1)\n",
        "print(str + ' '+ str1)"
      ],
      "metadata": {
        "colab": {
          "base_uri": "https://localhost:8080/"
        },
        "id": "kGRZKoJhFFrd",
        "outputId": "ff1744d6-53d2-4a6d-cd32-2843c1931a15"
      },
      "execution_count": null,
      "outputs": [
        {
          "output_type": "stream",
          "name": "stdout",
          "text": [
            "HelloWorld\n",
            "Hello World\n"
          ]
        }
      ]
    },
    {
      "cell_type": "code",
      "source": [
        "# String Indexing\n",
        "\n",
        "St = 'Hello Welcome to the world of Python Programming'\n",
        "\n",
        "\n",
        "# Sting Slicing\n",
        "\n",
        "print(St[6])\n",
        "print(St[-10])\n",
        "print(St[2:9])\n",
        "print(St[:-1])\n",
        "print(St[::2])\n",
        "print(St[4:-4:2])\n",
        "print(St[::-1])\n",
        "print(St[4:-4:-1])"
      ],
      "metadata": {
        "colab": {
          "base_uri": "https://localhost:8080/"
        },
        "id": "tLFvp-jwFGKb",
        "outputId": "83b8fef6-e673-497e-d2e0-ef9098a12947"
      },
      "execution_count": null,
      "outputs": [
        {
          "output_type": "stream",
          "name": "stdout",
          "text": [
            "W\n",
            "r\n",
            "llo Wel\n",
            "Hello Welcome to the world of Python Programmin\n",
            "HloWloet h ol fPto rgamn\n",
            "oWloet h ol fPto rga\n",
            "gnimmargorP nohtyP fo dlrow eht ot emocleW olleH\n",
            "\n"
          ]
        }
      ]
    },
    {
      "cell_type": "code",
      "source": [
        "# List Definition\n",
        "\n",
        "lst = [100,200,300,400]\n",
        "\n",
        "# List Slicing\n",
        "print(lst[2])\n",
        "print(lst[-2])\n",
        "print(lst[:-2])\n",
        "\n",
        "lst1 = [100,200,300,400,[500,600,700,800,['Hi','Python','How']]]\n",
        "\n",
        "print(lst[:2])\n",
        "print(lst1[4][2])\n",
        "print(lst1[4][4][1])"
      ],
      "metadata": {
        "colab": {
          "base_uri": "https://localhost:8080/"
        },
        "id": "arl70ywENFrg",
        "outputId": "73a90f5e-cc8f-4583-bb53-8c92238c3a0e"
      },
      "execution_count": null,
      "outputs": [
        {
          "output_type": "stream",
          "name": "stdout",
          "text": [
            "300\n",
            "300\n",
            "[100, 200]\n",
            "[100, 200]\n",
            "700\n",
            "Python\n"
          ]
        }
      ]
    },
    {
      "cell_type": "code",
      "source": [
        "lst2 = [100,[200,300,[10,20,400,500,'Hii',[500],200],400,456],78]\n",
        "\n",
        "print(lst2[1][2][4])\n",
        "print(lst2[1][2][5])\n",
        "print(lst2[-2][-2])"
      ],
      "metadata": {
        "colab": {
          "base_uri": "https://localhost:8080/"
        },
        "id": "YQcfLoH3RXrv",
        "outputId": "7eba9395-4b1a-4bf2-8e5c-1a998b7ec168"
      },
      "execution_count": null,
      "outputs": [
        {
          "output_type": "stream",
          "name": "stdout",
          "text": [
            "Hii\n",
            "[500]\n",
            "400\n"
          ]
        }
      ]
    },
    {
      "cell_type": "code",
      "source": [
        "lst = []\n",
        "lst.append('Hello')\n",
        "lst.insert(1,'World')\n",
        "lst.pop()\n",
        "print(lst)"
      ],
      "metadata": {
        "colab": {
          "base_uri": "https://localhost:8080/"
        },
        "id": "u2LthXCht5xf",
        "outputId": "b10613df-ca85-459e-f9dc-209014848a63"
      },
      "execution_count": null,
      "outputs": [
        {
          "output_type": "stream",
          "name": "stdout",
          "text": [
            "['Hello']\n"
          ]
        }
      ]
    },
    {
      "cell_type": "code",
      "source": [
        "str = ' Hello'\n",
        "print(str.upper())"
      ],
      "metadata": {
        "colab": {
          "base_uri": "https://localhost:8080/"
        },
        "id": "HvJBixC_t5jc",
        "outputId": "c9815686-8668-4fe9-ab49-270ef57c660b"
      },
      "execution_count": null,
      "outputs": [
        {
          "output_type": "stream",
          "name": "stdout",
          "text": [
            " HELLO\n"
          ]
        }
      ]
    },
    {
      "cell_type": "code",
      "source": [
        "lst = [10,20,30,40,50]\n",
        "lst.append(60)\n",
        "lst.insert(4,300)\n",
        "lst.remove(300)\n",
        "print(lst)"
      ],
      "metadata": {
        "colab": {
          "base_uri": "https://localhost:8080/"
        },
        "id": "wEE7QSAzt5P4",
        "outputId": "3b092de4-95b6-4f32-c879-283c832593c4"
      },
      "execution_count": null,
      "outputs": [
        {
          "output_type": "stream",
          "name": "stdout",
          "text": [
            "[10, 20, 30, 40, 50, 60]\n"
          ]
        }
      ]
    },
    {
      "cell_type": "code",
      "source": [
        "lst = [100,200,100,300,400,500]\n",
        "lst.remove(100)\n",
        "\n",
        "print(lst)"
      ],
      "metadata": {
        "colab": {
          "base_uri": "https://localhost:8080/"
        },
        "id": "qeXEBNGrzUC_",
        "outputId": "4e054670-8ce2-4d03-e81a-d595890ea38f"
      },
      "execution_count": null,
      "outputs": [
        {
          "output_type": "stream",
          "name": "stdout",
          "text": [
            "[200, 100, 300, 400, 500]\n"
          ]
        }
      ]
    },
    {
      "cell_type": "code",
      "source": [
        "for i in lst:\n",
        "  print(i)"
      ],
      "metadata": {
        "colab": {
          "base_uri": "https://localhost:8080/"
        },
        "id": "xvo1v3AR1TUv",
        "outputId": "c6361908-cd59-48c2-c587-53747504bc25"
      },
      "execution_count": null,
      "outputs": [
        {
          "output_type": "stream",
          "name": "stdout",
          "text": [
            "200\n",
            "100\n",
            "300\n",
            "400\n",
            "500\n"
          ]
        }
      ]
    },
    {
      "cell_type": "code",
      "source": [
        "lst = [1,2,3,4,5,6,7,8,9,10]\n",
        "for i in lst:\n",
        "  print(i , end = ' ' )"
      ],
      "metadata": {
        "colab": {
          "base_uri": "https://localhost:8080/"
        },
        "id": "RNkYrG0_1TLb",
        "outputId": "bb459fbc-011e-4cae-d2ba-153d79148d8a"
      },
      "execution_count": null,
      "outputs": [
        {
          "output_type": "stream",
          "name": "stdout",
          "text": [
            "1 2 3 4 5 6 7 8 9 10 "
          ]
        }
      ]
    },
    {
      "cell_type": "code",
      "source": [
        "# Tuple\n",
        "\n",
        "\n",
        "tup = (10,20,30)\n",
        "\n"
      ],
      "metadata": {
        "id": "VwTzij6422Yj"
      },
      "execution_count": null,
      "outputs": []
    },
    {
      "cell_type": "code",
      "source": [
        "lst = [10,20,30,40,50,60]\n",
        "\n",
        "lst.reverse()\n",
        "\n",
        "print(lst)"
      ],
      "metadata": {
        "colab": {
          "base_uri": "https://localhost:8080/"
        },
        "id": "xnUqN3qmzv0z",
        "outputId": "3dcf2b2a-b20c-4da3-fa9d-02cc127877c1"
      },
      "execution_count": null,
      "outputs": [
        {
          "output_type": "stream",
          "name": "stdout",
          "text": [
            "[60, 50, 40, 30, 20, 10]\n"
          ]
        }
      ]
    },
    {
      "cell_type": "code",
      "source": [
        "lst = [100,500,600,300,400,200]\n",
        "\n",
        "lst.sort()\n",
        "\n",
        "print(lst)"
      ],
      "metadata": {
        "colab": {
          "base_uri": "https://localhost:8080/"
        },
        "id": "QX4fTh5j0Aim",
        "outputId": "5a899b4d-2cb2-4e55-91b9-8cd1d07a4eca"
      },
      "execution_count": null,
      "outputs": [
        {
          "output_type": "stream",
          "name": "stdout",
          "text": [
            "[100, 200, 300, 400, 500, 600]\n"
          ]
        }
      ]
    },
    {
      "cell_type": "code",
      "source": [
        "lst = [10,20,[30,40,[50,60,[70,80,[[40]]]],70],80]\n",
        "\n",
        "print(lst[-2][-2][-1][-1][-1])"
      ],
      "metadata": {
        "colab": {
          "base_uri": "https://localhost:8080/"
        },
        "id": "qkHtvlP51jrb",
        "outputId": "953fdb43-ed36-460f-bc96-68ec02e4ebda"
      },
      "execution_count": null,
      "outputs": [
        {
          "output_type": "stream",
          "name": "stdout",
          "text": [
            "[40]\n"
          ]
        }
      ]
    },
    {
      "cell_type": "code",
      "source": [
        "lst = [10,20,(100,200),[300,400,900]]\n",
        "\n",
        "print(lst[2][1])"
      ],
      "metadata": {
        "colab": {
          "base_uri": "https://localhost:8080/"
        },
        "id": "q5bAUFmc4e1m",
        "outputId": "1406e830-68f3-42bb-f6da-483302e1387a"
      },
      "execution_count": null,
      "outputs": [
        {
          "output_type": "stream",
          "name": "stdout",
          "text": [
            "200\n"
          ]
        }
      ]
    },
    {
      "cell_type": "code",
      "source": [
        "print(type(lst))"
      ],
      "metadata": {
        "colab": {
          "base_uri": "https://localhost:8080/"
        },
        "id": "CObZd-Rt44Jj",
        "outputId": "44ec57a5-a3f1-4a0f-f138-ac92afa2c60e"
      },
      "execution_count": null,
      "outputs": [
        {
          "output_type": "stream",
          "name": "stdout",
          "text": [
            "<class 'list'>\n"
          ]
        }
      ]
    },
    {
      "cell_type": "code",
      "source": [
        "tup = (100,200,300,400,[600,700])\n"
      ],
      "metadata": {
        "id": "-2Ov6oQ2434c"
      },
      "execution_count": null,
      "outputs": []
    },
    {
      "cell_type": "code",
      "source": [
        "# Dictionary\n",
        "\n",
        "dict = { 'A': 10, 'B':20,'C':30}\n",
        "\n",
        "\n",
        "dict.values()\n"
      ],
      "metadata": {
        "colab": {
          "base_uri": "https://localhost:8080/"
        },
        "id": "N7wdX6Bc54tu",
        "outputId": "8e27f243-8d1a-47c3-ffc1-f270947a4658"
      },
      "execution_count": null,
      "outputs": [
        {
          "output_type": "execute_result",
          "data": {
            "text/plain": [
              "dict_values([10, 20, 30])"
            ]
          },
          "metadata": {},
          "execution_count": 20
        }
      ]
    },
    {
      "cell_type": "code",
      "source": [
        "dict.keys()"
      ],
      "metadata": {
        "colab": {
          "base_uri": "https://localhost:8080/"
        },
        "id": "wSxL7vZV67C_",
        "outputId": "a47c9425-fd0a-4bef-a77d-f7bb6f0f10a1"
      },
      "execution_count": null,
      "outputs": [
        {
          "output_type": "execute_result",
          "data": {
            "text/plain": [
              "dict_keys(['A', 'B', 'C'])"
            ]
          },
          "metadata": {},
          "execution_count": 21
        }
      ]
    },
    {
      "cell_type": "code",
      "source": [
        "dict.update({'D':40})"
      ],
      "metadata": {
        "id": "dj1yvIVf66Rj"
      },
      "execution_count": null,
      "outputs": []
    },
    {
      "cell_type": "code",
      "source": [
        "dict"
      ],
      "metadata": {
        "colab": {
          "base_uri": "https://localhost:8080/"
        },
        "id": "Imq8Cvgi8Wru",
        "outputId": "1451d916-22ef-4071-b4f7-6cda8d4082ba"
      },
      "execution_count": null,
      "outputs": [
        {
          "output_type": "execute_result",
          "data": {
            "text/plain": [
              "{'A': 10, 'B': 20, 'C': 30, 'D': 40}"
            ]
          },
          "metadata": {},
          "execution_count": 23
        }
      ]
    },
    {
      "cell_type": "code",
      "source": [
        "dict = {'India': [100,200,300,400],\n",
        "        'USA': [500,600,700,800],\n",
        "        'UK':['Hii','World','Python']}\n"
      ],
      "metadata": {
        "id": "acrq3k3H-cN_"
      },
      "execution_count": null,
      "outputs": []
    },
    {
      "cell_type": "code",
      "source": [
        "dict['India'][2]"
      ],
      "metadata": {
        "colab": {
          "base_uri": "https://localhost:8080/"
        },
        "id": "it3ORHCB-9jh",
        "outputId": "3546f87f-af87-4c68-a7f0-75d768f00c6d"
      },
      "execution_count": null,
      "outputs": [
        {
          "output_type": "execute_result",
          "data": {
            "text/plain": [
              "300"
            ]
          },
          "metadata": {},
          "execution_count": 29
        }
      ]
    },
    {
      "cell_type": "code",
      "source": [
        "for i in range(0,10):\n",
        "  print(i)"
      ],
      "metadata": {
        "colab": {
          "base_uri": "https://localhost:8080/"
        },
        "id": "7y9V4MBWBedT",
        "outputId": "3b4ccc32-ebaf-4dc0-d188-5e09f55f3ca9"
      },
      "execution_count": null,
      "outputs": [
        {
          "output_type": "stream",
          "name": "stdout",
          "text": [
            "0\n",
            "1\n",
            "2\n",
            "3\n",
            "4\n",
            "5\n",
            "6\n",
            "7\n",
            "8\n",
            "9\n"
          ]
        }
      ]
    },
    {
      "cell_type": "code",
      "source": [
        "for i in range(0,10):\n",
        "  print(i)\n",
        "  if i ==5:\n",
        "    break"
      ],
      "metadata": {
        "colab": {
          "base_uri": "https://localhost:8080/"
        },
        "id": "LyRYqbxjAXmg",
        "outputId": "1e55271b-84c1-4ba3-f5a0-3e812d3f4dae"
      },
      "execution_count": null,
      "outputs": [
        {
          "output_type": "stream",
          "name": "stdout",
          "text": [
            "0\n",
            "1\n",
            "2\n",
            "3\n",
            "4\n",
            "5\n"
          ]
        }
      ]
    },
    {
      "cell_type": "code",
      "source": [
        "for i in range(0,10):\n",
        "  print(i)\n",
        "  if i ==5:\n",
        "    pass"
      ],
      "metadata": {
        "colab": {
          "base_uri": "https://localhost:8080/"
        },
        "id": "MJ59dpGdCJ_d",
        "outputId": "98e3ead3-8ecb-43eb-f752-1a1928da7244"
      },
      "execution_count": null,
      "outputs": [
        {
          "output_type": "stream",
          "name": "stdout",
          "text": [
            "0\n",
            "1\n",
            "2\n",
            "3\n",
            "4\n",
            "5\n",
            "6\n",
            "7\n",
            "8\n",
            "9\n"
          ]
        }
      ]
    },
    {
      "cell_type": "code",
      "source": [
        "for i in range(0,10):\n",
        "  if i%2 == 0:\n",
        "    print(i)"
      ],
      "metadata": {
        "colab": {
          "base_uri": "https://localhost:8080/"
        },
        "id": "7mpjU5-HDWIE",
        "outputId": "ce364cff-7ad6-4fa3-ff84-53ef13a022b9"
      },
      "execution_count": null,
      "outputs": [
        {
          "output_type": "stream",
          "name": "stdout",
          "text": [
            "0\n",
            "2\n",
            "4\n",
            "6\n",
            "8\n"
          ]
        }
      ]
    },
    {
      "cell_type": "code",
      "source": [
        "for i in range(0,10):\n",
        "  if i%2 != 0:\n",
        "    print(i)"
      ],
      "metadata": {
        "colab": {
          "base_uri": "https://localhost:8080/"
        },
        "id": "w351Yp6IEXRj",
        "outputId": "01316f2b-a892-4bbc-c9ce-c87e240866c9"
      },
      "execution_count": null,
      "outputs": [
        {
          "output_type": "stream",
          "name": "stdout",
          "text": [
            "1\n",
            "3\n",
            "5\n",
            "7\n",
            "9\n"
          ]
        }
      ]
    },
    {
      "cell_type": "code",
      "source": [
        "'''\n",
        "if <Condition = True>:\n",
        "  print('String')\n",
        "\n",
        "\n",
        "\n",
        "Note:\n",
        "= --> Assignment Operator\n",
        "\n",
        "== --> Comparison Operator\n",
        "\n",
        "'''\n",
        "\n",
        "\n",
        "if 1 ==1 :\n",
        "  print('Hello World')"
      ],
      "metadata": {
        "colab": {
          "base_uri": "https://localhost:8080/"
        },
        "id": "M-MUe5jc_yk5",
        "outputId": "e9195b29-65b5-4438-ec75-93e7bffb6415"
      },
      "execution_count": null,
      "outputs": [
        {
          "output_type": "stream",
          "name": "stdout",
          "text": [
            "Hello World\n"
          ]
        }
      ]
    },
    {
      "cell_type": "code",
      "source": [
        "# Using IF ELSE condition\n",
        "\n",
        "num = 100\n",
        "\n",
        "if num > 300:\n",
        "  print('the num is greater value')\n",
        "else:\n",
        "  print('the num is smaller value')"
      ],
      "metadata": {
        "colab": {
          "base_uri": "https://localhost:8080/"
        },
        "id": "sFT6CPmi_yXV",
        "outputId": "b1c13fe3-5d23-4e64-f763-13f2df856903"
      },
      "execution_count": null,
      "outputs": [
        {
          "output_type": "stream",
          "name": "stdout",
          "text": [
            "the num is smaller value\n"
          ]
        }
      ]
    },
    {
      "cell_type": "code",
      "source": [
        "'''\n",
        "\n",
        "if < Condition = True>:\n",
        "  <statement>\n",
        "elif <Condition = True>:\n",
        "  <Statemnet>\n",
        "else:\n",
        "  <Statement>\n",
        "\n",
        "'''\n",
        "number = float(input('Enter the number : '))\n",
        "\n",
        "threshould = 200\n",
        "\n",
        "if number > threshould:\n",
        "  print('The number is greater than threshould')\n",
        "\n",
        "elif number == threshould:\n",
        "  print('The number is equal to threshould')\n",
        "\n",
        "else:\n",
        "  print('The number is less then threshould')"
      ],
      "metadata": {
        "colab": {
          "base_uri": "https://localhost:8080/"
        },
        "id": "Yl5JRqJXEex_",
        "outputId": "8a727fc5-6c31-481c-9197-2006fcfa8673"
      },
      "execution_count": null,
      "outputs": [
        {
          "output_type": "stream",
          "name": "stdout",
          "text": [
            "Enter the number : 200\n",
            "The number is equal to threshould\n"
          ]
        }
      ]
    },
    {
      "cell_type": "code",
      "source": [
        "marks  = int(input('student marks: ' ))\n",
        "\n",
        "if marks >= 80:\n",
        "  print('Bright Student')\n",
        "elif marks >= 70 and marks <= 79:\n",
        "  print('Good Student')\n",
        "elif marks >=60 and marks <= 69:\n",
        "  print('Avg Student')\n",
        "elif marks >= 50 and marks <= 59:\n",
        "  print('Weak Student')\n",
        "else:\n",
        "  print('Low Grade')"
      ],
      "metadata": {
        "colab": {
          "base_uri": "https://localhost:8080/"
        },
        "id": "KkBE2hcvGyhn",
        "outputId": "5a29a8a0-2607-4608-84c0-15aa4e5b9710"
      },
      "execution_count": null,
      "outputs": [
        {
          "output_type": "stream",
          "name": "stdout",
          "text": [
            "student marks: 89\n",
            "Bright Student\n"
          ]
        }
      ]
    },
    {
      "cell_type": "code",
      "source": [
        "number = int(input('Enter the Number: '))\n",
        "\n",
        "factorial = 1\n",
        "for i in range(1,number+1):\n",
        "  factorial = factorial * i\n",
        "\n",
        "print(factorial)"
      ],
      "metadata": {
        "colab": {
          "base_uri": "https://localhost:8080/"
        },
        "id": "CwtqoEP4M0J-",
        "outputId": "425f4966-4b74-4708-f2ef-d8669b87d3a2"
      },
      "execution_count": null,
      "outputs": [
        {
          "output_type": "stream",
          "name": "stdout",
          "text": [
            "Enter the Number: 5\n",
            "120\n"
          ]
        }
      ]
    },
    {
      "cell_type": "code",
      "source": [
        "import math\n",
        "\n",
        "math.factorial(number)"
      ],
      "metadata": {
        "colab": {
          "base_uri": "https://localhost:8080/"
        },
        "id": "YtON9MXAOLBf",
        "outputId": "abebf1be-a1c4-40f2-8a6f-188fa0be93a8"
      },
      "execution_count": null,
      "outputs": [
        {
          "output_type": "execute_result",
          "data": {
            "text/plain": [
              "120"
            ]
          },
          "metadata": {},
          "execution_count": 20
        }
      ]
    },
    {
      "cell_type": "code",
      "source": [
        "# Calculate the Square Root and power of number\n",
        "\n",
        "num = 2**3     # Power\n",
        "print(num)\n",
        "\n",
        "num1 = 4**0.5  # Square Root\n",
        "print(num1)\n",
        "\n"
      ],
      "metadata": {
        "colab": {
          "base_uri": "https://localhost:8080/"
        },
        "id": "Kl6G5pldOUQJ",
        "outputId": "c2402e69-cbd8-47b8-8648-4b7c9077d6d4"
      },
      "execution_count": null,
      "outputs": [
        {
          "output_type": "stream",
          "name": "stdout",
          "text": [
            "8\n",
            "2.0\n"
          ]
        }
      ]
    },
    {
      "cell_type": "code",
      "source": [
        "math.pow(2,3)"
      ],
      "metadata": {
        "colab": {
          "base_uri": "https://localhost:8080/"
        },
        "id": "d5orF7bJOz2-",
        "outputId": "5d122f9f-238d-4082-992a-440895d0151a"
      },
      "execution_count": null,
      "outputs": [
        {
          "output_type": "execute_result",
          "data": {
            "text/plain": [
              "8.0"
            ]
          },
          "metadata": {},
          "execution_count": 22
        }
      ]
    },
    {
      "cell_type": "code",
      "source": [
        "math.sqrt(9)"
      ],
      "metadata": {
        "colab": {
          "base_uri": "https://localhost:8080/"
        },
        "id": "pW0YjLqpO7qb",
        "outputId": "c76d1e74-c509-4358-c3cc-8c7f4a102630"
      },
      "execution_count": null,
      "outputs": [
        {
          "output_type": "execute_result",
          "data": {
            "text/plain": [
              "3.0"
            ]
          },
          "metadata": {},
          "execution_count": 23
        }
      ]
    },
    {
      "cell_type": "code",
      "source": [
        "withdraw = int(input('Enter the Amount: '))\n",
        "balance = 5000\n",
        "\n",
        "if withdraw <= balance:\n",
        "  print('The balance is : ', balance - withdraw)\n",
        "elif withdraw == balance:\n",
        "  print('The balance is zero ')\n",
        "elif withdraw > balance:\n",
        "  print('Insufficient Balance')\n",
        "else:\n",
        "  print('No Transaction')"
      ],
      "metadata": {
        "colab": {
          "base_uri": "https://localhost:8080/"
        },
        "id": "Ozrapb37COPy",
        "outputId": "0b8557ac-c256-4a89-cc76-0ff0c0641704"
      },
      "execution_count": null,
      "outputs": [
        {
          "output_type": "stream",
          "name": "stdout",
          "text": [
            "Enter the Amount: 2000\n",
            "The balance is :  3000\n"
          ]
        }
      ]
    },
    {
      "cell_type": "code",
      "source": [
        "num = 0\n",
        "\n",
        "while num <10 :\n",
        "\n",
        "  num = num + 1\n",
        "  print(num)"
      ],
      "metadata": {
        "colab": {
          "base_uri": "https://localhost:8080/"
        },
        "id": "q66B3bNsS60R",
        "outputId": "2013042c-0508-42f1-924a-38d1f0e27600"
      },
      "execution_count": null,
      "outputs": [
        {
          "output_type": "stream",
          "name": "stdout",
          "text": [
            "1\n",
            "2\n",
            "3\n",
            "4\n",
            "5\n",
            "6\n",
            "7\n",
            "8\n",
            "9\n",
            "10\n"
          ]
        }
      ]
    },
    {
      "cell_type": "code",
      "source": [
        "for i in range(10,0,-1):\n",
        "  print('*'* i)"
      ],
      "metadata": {
        "colab": {
          "base_uri": "https://localhost:8080/"
        },
        "id": "kwNJoH7YU3X3",
        "outputId": "1912e019-3967-42d1-ecdd-762b5510a34a"
      },
      "execution_count": null,
      "outputs": [
        {
          "output_type": "stream",
          "name": "stdout",
          "text": [
            "**********\n",
            "*********\n",
            "********\n",
            "*******\n",
            "******\n",
            "*****\n",
            "****\n",
            "***\n",
            "**\n",
            "*\n"
          ]
        }
      ]
    },
    {
      "cell_type": "code",
      "source": [
        "for i in range(0,10):\n",
        "  print('*'* i)"
      ],
      "metadata": {
        "colab": {
          "base_uri": "https://localhost:8080/"
        },
        "id": "RgGz_264XYjk",
        "outputId": "45674eaa-30d1-47ef-c8f0-f61666df6466"
      },
      "execution_count": null,
      "outputs": [
        {
          "output_type": "stream",
          "name": "stdout",
          "text": [
            "\n",
            "*\n",
            "**\n",
            "***\n",
            "****\n",
            "*****\n",
            "******\n",
            "*******\n",
            "********\n",
            "*********\n"
          ]
        }
      ]
    },
    {
      "cell_type": "code",
      "source": [
        "for i in range(0,10):\n",
        "  print('*'* i)\n",
        "for i in range(10,0,-1):\n",
        "  print('*'* i)"
      ],
      "metadata": {
        "colab": {
          "base_uri": "https://localhost:8080/"
        },
        "id": "wXPr_6Q_Xx32",
        "outputId": "67c683e4-7ca8-4cb2-983f-591aada2bfc0"
      },
      "execution_count": null,
      "outputs": [
        {
          "output_type": "stream",
          "name": "stdout",
          "text": [
            "\n",
            "*\n",
            "**\n",
            "***\n",
            "****\n",
            "*****\n",
            "******\n",
            "*******\n",
            "********\n",
            "*********\n",
            "**********\n",
            "*********\n",
            "********\n",
            "*******\n",
            "******\n",
            "*****\n",
            "****\n",
            "***\n",
            "**\n",
            "*\n"
          ]
        }
      ]
    },
    {
      "cell_type": "code",
      "source": [
        " # Create Function\n",
        "\n",
        "num = 1000\n",
        "def sum():\n",
        "  num = 100\n",
        "  print(num)\n",
        "\n",
        "sum()  # Function Calling\n",
        "\n"
      ],
      "metadata": {
        "colab": {
          "base_uri": "https://localhost:8080/"
        },
        "id": "KAt8ePsjgzuG",
        "outputId": "8ebaac7f-4a2e-486f-e897-bc1e56f8ca1e"
      },
      "execution_count": null,
      "outputs": [
        {
          "output_type": "stream",
          "name": "stdout",
          "text": [
            "100\n"
          ]
        }
      ]
    },
    {
      "cell_type": "code",
      "source": [
        "def sum():\n",
        "  num = 100\n",
        "  num1= 200\n",
        "  num3 = num1 + num\n",
        "  print(f'the sum of two numbers {num1} and {num} is',num3)\n",
        "\n",
        "sum()"
      ],
      "metadata": {
        "colab": {
          "base_uri": "https://localhost:8080/"
        },
        "id": "0w5GtDcxgzex",
        "outputId": "9b82e746-65c2-4aa9-91ba-8199c0effc2e"
      },
      "execution_count": null,
      "outputs": [
        {
          "output_type": "stream",
          "name": "stdout",
          "text": [
            "the sum of two numbers 200 and 100 is 300\n"
          ]
        }
      ]
    },
    {
      "cell_type": "code",
      "source": [
        "\n",
        "\n",
        "def addition():\n",
        "   number1 = float(input('Enter The  First Number'))\n",
        "   number2 = float(input('Enter The Second Number'))\n",
        "   num3 = number1 + number2\n",
        "   print(f'The Addition of two Number {number1} and {number2} is',num3)\n",
        "\n",
        "addition()\n",
        "\n",
        "def subtraction():\n",
        "   number1 = float(input('Enter The  First Number'))\n",
        "   number2 = float(input('Enter The Second Number'))\n",
        "   num3 = number1 - number2\n",
        "   print(f'The Subtraction of two Number {number1} and {number2} is',num3)\n",
        "\n",
        "subtraction()\n",
        "\n",
        "def multiplication():\n",
        "   number1 = float(input('Enter The  First Number'))\n",
        "   number2 = float(input('Enter The Second Number'))\n",
        "   num3 = number1 * number2\n",
        "   print(f'The Multiplication of two Number {number1} and {number2} is',num3)\n",
        "\n",
        "multiplication()\n",
        "\n",
        "def division():\n",
        "   number1 = float(input('Enter The  First Number'))\n",
        "   number2 = float(input('Enter The Second Number'))\n",
        "   num3 = number1 / number2\n",
        "   print(f'The Division of two Number {number1} and {number2} is',num3)\n",
        "\n",
        "division()\n"
      ],
      "metadata": {
        "colab": {
          "base_uri": "https://localhost:8080/"
        },
        "id": "SRlFlJPloxv9",
        "outputId": "8b005201-6c80-4c49-b394-903dba258923"
      },
      "execution_count": null,
      "outputs": [
        {
          "output_type": "stream",
          "name": "stdout",
          "text": [
            "Enter The  First Number500\n",
            "Enter The Second Number25\n",
            "The Addition of two Number 500.0 and 25.0 is 525.0\n",
            "Enter The  First Number500\n",
            "Enter The Second Number25\n",
            "The Subtraction of two Number 500.0 and 25.0 is 475.0\n",
            "Enter The  First Number500\n",
            "Enter The Second Number25\n",
            "The Multiplication of two Number 500.0 and 25.0 is 12500.0\n",
            "Enter The  First Number500\n",
            "Enter The Second Number25\n",
            "The Division of two Number 500.0 and 25.0 is 20.0\n"
          ]
        }
      ]
    },
    {
      "cell_type": "code",
      "source": [
        "def abc():\n",
        "  num1 =  10000\n",
        "  num2 =  20000\n",
        "\n",
        "  return num1+num2\n",
        "\n",
        "a = abc()\n",
        "print(a)"
      ],
      "metadata": {
        "colab": {
          "base_uri": "https://localhost:8080/"
        },
        "id": "9MWduwCOqXvv",
        "outputId": "5cf3ae0d-64b0-466c-8ca8-6d67a1f0c457"
      },
      "execution_count": null,
      "outputs": [
        {
          "output_type": "stream",
          "name": "stdout",
          "text": [
            "30000\n"
          ]
        }
      ]
    },
    {
      "cell_type": "code",
      "source": [
        "def star():\n",
        "  num = 10\n",
        "  num2 = 50\n",
        "  num3 = num+num2\n",
        "  return num3\n",
        "\n",
        "var = star()\n",
        "print(var)"
      ],
      "metadata": {
        "colab": {
          "base_uri": "https://localhost:8080/"
        },
        "id": "rfgiFORLyjzU",
        "outputId": "ff9e790d-ce15-49be-9854-7387ea710e2e"
      },
      "execution_count": null,
      "outputs": [
        {
          "output_type": "stream",
          "name": "stdout",
          "text": [
            "60\n"
          ]
        }
      ]
    },
    {
      "cell_type": "code",
      "source": [
        "# Write a code to Verify wether string is palindrom or not\n",
        "\n",
        "string = input('Enter the String ')\n",
        "if string == (string[::-1]):\n",
        "  print('The string is pallindrom')\n",
        "else:\n",
        "  print('The string is not pallindrom')"
      ],
      "metadata": {
        "colab": {
          "base_uri": "https://localhost:8080/"
        },
        "id": "FJCyEjLE0R8u",
        "outputId": "e16893c4-8da7-41fd-9304-595ea2eee542"
      },
      "execution_count": null,
      "outputs": [
        {
          "output_type": "stream",
          "name": "stdout",
          "text": [
            "Enter the String nursesrun\n",
            "The string is pallindrom\n"
          ]
        }
      ]
    }
  ]
}