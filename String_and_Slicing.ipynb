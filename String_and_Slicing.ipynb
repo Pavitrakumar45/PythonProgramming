{
  "nbformat": 4,
  "nbformat_minor": 0,
  "metadata": {
    "colab": {
      "provenance": []
    },
    "kernelspec": {
      "name": "python3",
      "display_name": "Python 3"
    },
    "language_info": {
      "name": "python"
    }
  },
  "cells": [
    {
      "cell_type": "code",
      "execution_count": null,
      "metadata": {
        "colab": {
          "base_uri": "https://localhost:8080/"
        },
        "id": "Lk2WXdLlAUcs",
        "outputId": "b80305c5-d588-404c-b2a2-533150fd55bc"
      },
      "outputs": [
        {
          "output_type": "stream",
          "name": "stdout",
          "text": [
            "Enter the radius of Circle : 45\n",
            "The Area of Circle is  6362.549999999999\n",
            "the circumference of circle is 282.78\n"
          ]
        }
      ],
      "source": [
        "# Calculate Area of Circle\n",
        "\n",
        "\n",
        "'''\n",
        "radius --> User\n",
        "\n",
        "Area = pi*r*r\n",
        "Circumference =  2*pi*r\n",
        "print('The area of Circle is', area)\n",
        "\n",
        "'''\n",
        "pi = 3.142\n",
        "radius = float(input('Enter the radius of Circle : '))\n",
        "area = pi*radius*radius\n",
        "\n",
        "circumference = 2*pi*radius\n",
        "print('The Area of Circle is ', area)\n",
        "print('the circumference of circle is', circumference)\n",
        "\n"
      ]
    },
    {
      "cell_type": "code",
      "source": [
        "# F string Method\n",
        "print(f'The Circumference of Circle is {circumference} mm ')\n",
        "print(f'The area of Circle is {area} mm^2')"
      ],
      "metadata": {
        "colab": {
          "base_uri": "https://localhost:8080/"
        },
        "id": "qfhUmnbODndi",
        "outputId": "ee80149a-fe73-42f5-dade-7b2d7f158b42"
      },
      "execution_count": null,
      "outputs": [
        {
          "output_type": "stream",
          "name": "stdout",
          "text": [
            "The Circumference of Circle is 282.78 mm \n",
            "The area of Circle is 6362.549999999999 mm^2\n"
          ]
        }
      ]
    },
    {
      "cell_type": "code",
      "source": [
        "str = 'Hello'\n",
        "str1 = 'World'\n",
        "\n",
        "print(str + str1)\n",
        "print(str + ' '+ str1)"
      ],
      "metadata": {
        "colab": {
          "base_uri": "https://localhost:8080/"
        },
        "id": "kGRZKoJhFFrd",
        "outputId": "ff1744d6-53d2-4a6d-cd32-2843c1931a15"
      },
      "execution_count": null,
      "outputs": [
        {
          "output_type": "stream",
          "name": "stdout",
          "text": [
            "HelloWorld\n",
            "Hello World\n"
          ]
        }
      ]
    },
    {
      "cell_type": "code",
      "source": [
        "# String Indexing\n",
        "\n",
        "St = 'Hello Welcome to the world of Python Programming'\n",
        "\n",
        "\n",
        "# Sting Slicing\n",
        "\n",
        "print(St[6])\n",
        "print(St[-10])\n",
        "print(St[2:9])\n",
        "print(St[:-1])\n",
        "print(St[::2])\n",
        "print(St[4:-4:2])\n",
        "print(St[::-1])\n",
        "print(St[4:-4:-1])"
      ],
      "metadata": {
        "colab": {
          "base_uri": "https://localhost:8080/"
        },
        "id": "tLFvp-jwFGKb",
        "outputId": "83b8fef6-e673-497e-d2e0-ef9098a12947"
      },
      "execution_count": null,
      "outputs": [
        {
          "output_type": "stream",
          "name": "stdout",
          "text": [
            "W\n",
            "r\n",
            "llo Wel\n",
            "Hello Welcome to the world of Python Programmin\n",
            "HloWloet h ol fPto rgamn\n",
            "oWloet h ol fPto rga\n",
            "gnimmargorP nohtyP fo dlrow eht ot emocleW olleH\n",
            "\n"
          ]
        }
      ]
    },
    {
      "cell_type": "code",
      "source": [
        "# List Definition\n",
        "\n",
        "lst = [100,200,300,400]\n",
        "\n",
        "# List Slicing\n",
        "print(lst[2])\n",
        "print(lst[-2])\n",
        "print(lst[:-2])\n",
        "\n",
        "lst1 = [100,200,300,400,[500,600,700,800,['Hi','Python','How']]]\n",
        "\n",
        "print(lst[:2])\n",
        "print(lst1[4][2])\n",
        "print(lst1[4][4][1])"
      ],
      "metadata": {
        "colab": {
          "base_uri": "https://localhost:8080/"
        },
        "id": "arl70ywENFrg",
        "outputId": "73a90f5e-cc8f-4583-bb53-8c92238c3a0e"
      },
      "execution_count": null,
      "outputs": [
        {
          "output_type": "stream",
          "name": "stdout",
          "text": [
            "300\n",
            "300\n",
            "[100, 200]\n",
            "[100, 200]\n",
            "700\n",
            "Python\n"
          ]
        }
      ]
    },
    {
      "cell_type": "code",
      "source": [
        "lst2 = [100,[200,300,[10,20,400,500,'Hii',[500],200],400,456],78]\n",
        "\n",
        "print(lst2[1][2][4])\n",
        "print(lst2[1][2][5])\n",
        "print(lst2[-2][-2])"
      ],
      "metadata": {
        "colab": {
          "base_uri": "https://localhost:8080/"
        },
        "id": "YQcfLoH3RXrv",
        "outputId": "7eba9395-4b1a-4bf2-8e5c-1a998b7ec168"
      },
      "execution_count": null,
      "outputs": [
        {
          "output_type": "stream",
          "name": "stdout",
          "text": [
            "Hii\n",
            "[500]\n",
            "400\n"
          ]
        }
      ]
    },
    {
      "cell_type": "code",
      "source": [
        "lst = []\n",
        "lst.append('Hello')\n",
        "lst.insert(1,'World')\n",
        "lst.pop()\n",
        "print(lst)"
      ],
      "metadata": {
        "colab": {
          "base_uri": "https://localhost:8080/"
        },
        "id": "u2LthXCht5xf",
        "outputId": "b10613df-ca85-459e-f9dc-209014848a63"
      },
      "execution_count": null,
      "outputs": [
        {
          "output_type": "stream",
          "name": "stdout",
          "text": [
            "['Hello']\n"
          ]
        }
      ]
    },
    {
      "cell_type": "code",
      "source": [
        "str = ' Hello'\n",
        "print(str.upper())"
      ],
      "metadata": {
        "colab": {
          "base_uri": "https://localhost:8080/"
        },
        "id": "HvJBixC_t5jc",
        "outputId": "c9815686-8668-4fe9-ab49-270ef57c660b"
      },
      "execution_count": null,
      "outputs": [
        {
          "output_type": "stream",
          "name": "stdout",
          "text": [
            " HELLO\n"
          ]
        }
      ]
    },
    {
      "cell_type": "code",
      "source": [
        "lst = [10,20,30,40,50]\n",
        "lst.append(60)\n",
        "lst.insert(4,300)\n",
        "lst.remove(300)\n",
        "print(lst)"
      ],
      "metadata": {
        "colab": {
          "base_uri": "https://localhost:8080/"
        },
        "id": "wEE7QSAzt5P4",
        "outputId": "3b092de4-95b6-4f32-c879-283c832593c4"
      },
      "execution_count": null,
      "outputs": [
        {
          "output_type": "stream",
          "name": "stdout",
          "text": [
            "[10, 20, 30, 40, 50, 60]\n"
          ]
        }
      ]
    },
    {
      "cell_type": "code",
      "source": [
        "lst = [100,200,100,300,400,500]\n",
        "lst.remove(100)\n",
        "\n",
        "print(lst)"
      ],
      "metadata": {
        "colab": {
          "base_uri": "https://localhost:8080/"
        },
        "id": "qeXEBNGrzUC_",
        "outputId": "4e054670-8ce2-4d03-e81a-d595890ea38f"
      },
      "execution_count": null,
      "outputs": [
        {
          "output_type": "stream",
          "name": "stdout",
          "text": [
            "[200, 100, 300, 400, 500]\n"
          ]
        }
      ]
    },
    {
      "cell_type": "code",
      "source": [
        "for i in lst:\n",
        "  print(i)"
      ],
      "metadata": {
        "colab": {
          "base_uri": "https://localhost:8080/"
        },
        "id": "xvo1v3AR1TUv",
        "outputId": "c6361908-cd59-48c2-c587-53747504bc25"
      },
      "execution_count": null,
      "outputs": [
        {
          "output_type": "stream",
          "name": "stdout",
          "text": [
            "200\n",
            "100\n",
            "300\n",
            "400\n",
            "500\n"
          ]
        }
      ]
    },
    {
      "cell_type": "code",
      "source": [
        "lst = [1,2,3,4,5,6,7,8,9,10]\n",
        "for i in lst:\n",
        "  print(i , end = ' ' )"
      ],
      "metadata": {
        "colab": {
          "base_uri": "https://localhost:8080/"
        },
        "id": "RNkYrG0_1TLb",
        "outputId": "bb459fbc-011e-4cae-d2ba-153d79148d8a"
      },
      "execution_count": null,
      "outputs": [
        {
          "output_type": "stream",
          "name": "stdout",
          "text": [
            "1 2 3 4 5 6 7 8 9 10 "
          ]
        }
      ]
    },
    {
      "cell_type": "code",
      "source": [
        "# Tuple\n",
        "\n",
        "\n",
        "tup = (10,20,30)\n",
        "\n"
      ],
      "metadata": {
        "id": "VwTzij6422Yj"
      },
      "execution_count": null,
      "outputs": []
    },
    {
      "cell_type": "code",
      "source": [
        "lst = [10,20,30,40,50,60]\n",
        "\n",
        "lst.reverse()\n",
        "\n",
        "print(lst)"
      ],
      "metadata": {
        "colab": {
          "base_uri": "https://localhost:8080/"
        },
        "id": "xnUqN3qmzv0z",
        "outputId": "3dcf2b2a-b20c-4da3-fa9d-02cc127877c1"
      },
      "execution_count": null,
      "outputs": [
        {
          "output_type": "stream",
          "name": "stdout",
          "text": [
            "[60, 50, 40, 30, 20, 10]\n"
          ]
        }
      ]
    },
    {
      "cell_type": "code",
      "source": [
        "lst = [100,500,600,300,400,200]\n",
        "\n",
        "lst.sort()\n",
        "\n",
        "print(lst)"
      ],
      "metadata": {
        "colab": {
          "base_uri": "https://localhost:8080/"
        },
        "id": "QX4fTh5j0Aim",
        "outputId": "5a899b4d-2cb2-4e55-91b9-8cd1d07a4eca"
      },
      "execution_count": null,
      "outputs": [
        {
          "output_type": "stream",
          "name": "stdout",
          "text": [
            "[100, 200, 300, 400, 500, 600]\n"
          ]
        }
      ]
    },
    {
      "cell_type": "code",
      "source": [
        "lst = [10,20,[30,40,[50,60,[70,80,[[40]]]],70],80]\n",
        "\n",
        "print(lst[-2][-2][-1][-1][-1])"
      ],
      "metadata": {
        "colab": {
          "base_uri": "https://localhost:8080/"
        },
        "id": "qkHtvlP51jrb",
        "outputId": "953fdb43-ed36-460f-bc96-68ec02e4ebda"
      },
      "execution_count": null,
      "outputs": [
        {
          "output_type": "stream",
          "name": "stdout",
          "text": [
            "[40]\n"
          ]
        }
      ]
    },
    {
      "cell_type": "code",
      "source": [
        "lst = [10,20,(100,200),[300,400,900]]\n",
        "\n",
        "print(lst[2][1])"
      ],
      "metadata": {
        "colab": {
          "base_uri": "https://localhost:8080/"
        },
        "id": "q5bAUFmc4e1m",
        "outputId": "1406e830-68f3-42bb-f6da-483302e1387a"
      },
      "execution_count": null,
      "outputs": [
        {
          "output_type": "stream",
          "name": "stdout",
          "text": [
            "200\n"
          ]
        }
      ]
    },
    {
      "cell_type": "code",
      "source": [
        "print(type(lst))"
      ],
      "metadata": {
        "colab": {
          "base_uri": "https://localhost:8080/"
        },
        "id": "CObZd-Rt44Jj",
        "outputId": "44ec57a5-a3f1-4a0f-f138-ac92afa2c60e"
      },
      "execution_count": null,
      "outputs": [
        {
          "output_type": "stream",
          "name": "stdout",
          "text": [
            "<class 'list'>\n"
          ]
        }
      ]
    },
    {
      "cell_type": "code",
      "source": [
        "tup = (100,200,300,400,[600,700])\n"
      ],
      "metadata": {
        "id": "-2Ov6oQ2434c"
      },
      "execution_count": null,
      "outputs": []
    },
    {
      "cell_type": "code",
      "source": [
        "# Dictionary\n",
        "\n",
        "dict = { 'A': 10, 'B':20,'C':30}\n",
        "\n",
        "\n",
        "dict.values()\n"
      ],
      "metadata": {
        "colab": {
          "base_uri": "https://localhost:8080/"
        },
        "id": "N7wdX6Bc54tu",
        "outputId": "8e27f243-8d1a-47c3-ffc1-f270947a4658"
      },
      "execution_count": null,
      "outputs": [
        {
          "output_type": "execute_result",
          "data": {
            "text/plain": [
              "dict_values([10, 20, 30])"
            ]
          },
          "metadata": {},
          "execution_count": 20
        }
      ]
    },
    {
      "cell_type": "code",
      "source": [
        "dict.keys()"
      ],
      "metadata": {
        "colab": {
          "base_uri": "https://localhost:8080/"
        },
        "id": "wSxL7vZV67C_",
        "outputId": "a47c9425-fd0a-4bef-a77d-f7bb6f0f10a1"
      },
      "execution_count": null,
      "outputs": [
        {
          "output_type": "execute_result",
          "data": {
            "text/plain": [
              "dict_keys(['A', 'B', 'C'])"
            ]
          },
          "metadata": {},
          "execution_count": 21
        }
      ]
    },
    {
      "cell_type": "code",
      "source": [
        "dict.update({'D':40})"
      ],
      "metadata": {
        "id": "dj1yvIVf66Rj"
      },
      "execution_count": null,
      "outputs": []
    },
    {
      "cell_type": "code",
      "source": [
        "dict"
      ],
      "metadata": {
        "colab": {
          "base_uri": "https://localhost:8080/"
        },
        "id": "Imq8Cvgi8Wru",
        "outputId": "1451d916-22ef-4071-b4f7-6cda8d4082ba"
      },
      "execution_count": null,
      "outputs": [
        {
          "output_type": "execute_result",
          "data": {
            "text/plain": [
              "{'A': 10, 'B': 20, 'C': 30, 'D': 40}"
            ]
          },
          "metadata": {},
          "execution_count": 23
        }
      ]
    },
    {
      "cell_type": "code",
      "source": [
        "dict = {'India': [100,200,300,400],\n",
        "        'USA': [500,600,700,800],\n",
        "        'UK':['Hii','World','Python']}\n"
      ],
      "metadata": {
        "id": "acrq3k3H-cN_"
      },
      "execution_count": null,
      "outputs": []
    },
    {
      "cell_type": "code",
      "source": [
        "dict['India'][2]"
      ],
      "metadata": {
        "colab": {
          "base_uri": "https://localhost:8080/"
        },
        "id": "it3ORHCB-9jh",
        "outputId": "3546f87f-af87-4c68-a7f0-75d768f00c6d"
      },
      "execution_count": null,
      "outputs": [
        {
          "output_type": "execute_result",
          "data": {
            "text/plain": [
              "300"
            ]
          },
          "metadata": {},
          "execution_count": 29
        }
      ]
    },
    {
      "cell_type": "code",
      "source": [
        "for i in range(0,10):\n",
        "  print(i)"
      ],
      "metadata": {
        "colab": {
          "base_uri": "https://localhost:8080/"
        },
        "id": "7y9V4MBWBedT",
        "outputId": "3b4ccc32-ebaf-4dc0-d188-5e09f55f3ca9"
      },
      "execution_count": null,
      "outputs": [
        {
          "output_type": "stream",
          "name": "stdout",
          "text": [
            "0\n",
            "1\n",
            "2\n",
            "3\n",
            "4\n",
            "5\n",
            "6\n",
            "7\n",
            "8\n",
            "9\n"
          ]
        }
      ]
    },
    {
      "cell_type": "code",
      "source": [
        "for i in range(0,10):\n",
        "  print(i)\n",
        "  if i ==5:\n",
        "    break"
      ],
      "metadata": {
        "colab": {
          "base_uri": "https://localhost:8080/"
        },
        "id": "LyRYqbxjAXmg",
        "outputId": "1e55271b-84c1-4ba3-f5a0-3e812d3f4dae"
      },
      "execution_count": null,
      "outputs": [
        {
          "output_type": "stream",
          "name": "stdout",
          "text": [
            "0\n",
            "1\n",
            "2\n",
            "3\n",
            "4\n",
            "5\n"
          ]
        }
      ]
    },
    {
      "cell_type": "code",
      "source": [
        "for i in range(0,10):\n",
        "  print(i)\n",
        "  if i ==5:\n",
        "    pass"
      ],
      "metadata": {
        "colab": {
          "base_uri": "https://localhost:8080/"
        },
        "id": "MJ59dpGdCJ_d",
        "outputId": "98e3ead3-8ecb-43eb-f752-1a1928da7244"
      },
      "execution_count": null,
      "outputs": [
        {
          "output_type": "stream",
          "name": "stdout",
          "text": [
            "0\n",
            "1\n",
            "2\n",
            "3\n",
            "4\n",
            "5\n",
            "6\n",
            "7\n",
            "8\n",
            "9\n"
          ]
        }
      ]
    },
    {
      "cell_type": "code",
      "source": [
        "for i in range(0,10):\n",
        "  if i%2 == 0:\n",
        "    print(i)"
      ],
      "metadata": {
        "colab": {
          "base_uri": "https://localhost:8080/"
        },
        "id": "7mpjU5-HDWIE",
        "outputId": "ce364cff-7ad6-4fa3-ff84-53ef13a022b9"
      },
      "execution_count": null,
      "outputs": [
        {
          "output_type": "stream",
          "name": "stdout",
          "text": [
            "0\n",
            "2\n",
            "4\n",
            "6\n",
            "8\n"
          ]
        }
      ]
    },
    {
      "cell_type": "code",
      "source": [
        "for i in range(0,10):\n",
        "  if i%2 != 0:\n",
        "    print(i)"
      ],
      "metadata": {
        "colab": {
          "base_uri": "https://localhost:8080/"
        },
        "id": "w351Yp6IEXRj",
        "outputId": "01316f2b-a892-4bbc-c9ce-c87e240866c9"
      },
      "execution_count": null,
      "outputs": [
        {
          "output_type": "stream",
          "name": "stdout",
          "text": [
            "1\n",
            "3\n",
            "5\n",
            "7\n",
            "9\n"
          ]
        }
      ]
    }
  ]
}