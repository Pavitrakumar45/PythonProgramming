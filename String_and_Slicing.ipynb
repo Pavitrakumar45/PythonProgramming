{
  "nbformat": 4,
  "nbformat_minor": 0,
  "metadata": {
    "colab": {
      "provenance": []
    },
    "kernelspec": {
      "name": "python3",
      "display_name": "Python 3"
    },
    "language_info": {
      "name": "python"
    }
  },
  "cells": [
    {
      "cell_type": "code",
      "execution_count": 2,
      "metadata": {
        "colab": {
          "base_uri": "https://localhost:8080/"
        },
        "id": "Lk2WXdLlAUcs",
        "outputId": "b80305c5-d588-404c-b2a2-533150fd55bc"
      },
      "outputs": [
        {
          "output_type": "stream",
          "name": "stdout",
          "text": [
            "Enter the radius of Circle : 45\n",
            "The Area of Circle is  6362.549999999999\n",
            "the circumference of circle is 282.78\n"
          ]
        }
      ],
      "source": [
        "# Calculate Area of Circle\n",
        "\n",
        "\n",
        "'''\n",
        "radius --> User\n",
        "\n",
        "Area = pi*r*r\n",
        "Circumference =  2*pi*r\n",
        "print('The area of Circle is', area)\n",
        "\n",
        "'''\n",
        "pi = 3.142\n",
        "radius = float(input('Enter the radius of Circle : '))\n",
        "area = pi*radius*radius\n",
        "circumference = 2*pi*radius\n",
        "print('The Area of Circle is ', area)\n",
        "print('the circumference of circle is', circumference)\n",
        "\n"
      ]
    },
    {
      "cell_type": "code",
      "source": [
        "# F string Method\n",
        "print(f'The Circumference of Circle is {circumference} mm ')\n",
        "print(f'The area of Circle is {area} mm^2')"
      ],
      "metadata": {
        "colab": {
          "base_uri": "https://localhost:8080/"
        },
        "id": "qfhUmnbODndi",
        "outputId": "ee80149a-fe73-42f5-dade-7b2d7f158b42"
      },
      "execution_count": 3,
      "outputs": [
        {
          "output_type": "stream",
          "name": "stdout",
          "text": [
            "The Circumference of Circle is 282.78 mm \n",
            "The area of Circle is 6362.549999999999 mm^2\n"
          ]
        }
      ]
    },
    {
      "cell_type": "code",
      "source": [
        "str = 'Hello'\n",
        "str1 = 'World'\n",
        "\n",
        "print(str + str1)\n",
        "print(str + ' '+ str1)"
      ],
      "metadata": {
        "colab": {
          "base_uri": "https://localhost:8080/"
        },
        "id": "kGRZKoJhFFrd",
        "outputId": "ff1744d6-53d2-4a6d-cd32-2843c1931a15"
      },
      "execution_count": 4,
      "outputs": [
        {
          "output_type": "stream",
          "name": "stdout",
          "text": [
            "HelloWorld\n",
            "Hello World\n"
          ]
        }
      ]
    },
    {
      "cell_type": "code",
      "source": [
        "# String Indexing\n",
        "\n",
        "St = 'Hello Welcome to the world of Python Programming'\n",
        "\n",
        "\n",
        "# Sting Slicing\n",
        "\n",
        "print(St[6])\n",
        "print(St[-10])\n",
        "print(St[2:9])\n",
        "print(St[:-1])\n",
        "print(St[::2])\n",
        "print(St[4:-4:2])\n",
        "print(St[::-1])\n",
        "print(St[4:-4:-1])"
      ],
      "metadata": {
        "colab": {
          "base_uri": "https://localhost:8080/"
        },
        "id": "tLFvp-jwFGKb",
        "outputId": "83b8fef6-e673-497e-d2e0-ef9098a12947"
      },
      "execution_count": 13,
      "outputs": [
        {
          "output_type": "stream",
          "name": "stdout",
          "text": [
            "W\n",
            "r\n",
            "llo Wel\n",
            "Hello Welcome to the world of Python Programmin\n",
            "HloWloet h ol fPto rgamn\n",
            "oWloet h ol fPto rga\n",
            "gnimmargorP nohtyP fo dlrow eht ot emocleW olleH\n",
            "\n"
          ]
        }
      ]
    },
    {
      "cell_type": "code",
      "source": [
        "# List Definition\n",
        "\n",
        "lst = [100,200,300,400]\n",
        "\n",
        "# List Slicing\n",
        "print(lst[2])\n",
        "print(lst[-2])\n",
        "print(lst[:-2])\n",
        "\n",
        "lst1 = [100,200,300,400,[500,600,700,800,['Hi','Python','How']]]\n",
        "\n",
        "print(lst[:2])\n",
        "print(lst1[4][2])\n",
        "print(lst1[4][4][1])"
      ],
      "metadata": {
        "colab": {
          "base_uri": "https://localhost:8080/"
        },
        "id": "arl70ywENFrg",
        "outputId": "73a90f5e-cc8f-4583-bb53-8c92238c3a0e"
      },
      "execution_count": 21,
      "outputs": [
        {
          "output_type": "stream",
          "name": "stdout",
          "text": [
            "300\n",
            "300\n",
            "[100, 200]\n",
            "[100, 200]\n",
            "700\n",
            "Python\n"
          ]
        }
      ]
    },
    {
      "cell_type": "code",
      "source": [
        "lst2 = [100,[200,300,[10,20,400,500,'Hii',[500],200],400,456],78]\n",
        "\n",
        "print(lst2[1][2][4])\n",
        "print(lst2[1][2][5])\n",
        "print(lst2[-2][-2])"
      ],
      "metadata": {
        "colab": {
          "base_uri": "https://localhost:8080/"
        },
        "id": "YQcfLoH3RXrv",
        "outputId": "7eba9395-4b1a-4bf2-8e5c-1a998b7ec168"
      },
      "execution_count": 27,
      "outputs": [
        {
          "output_type": "stream",
          "name": "stdout",
          "text": [
            "Hii\n",
            "[500]\n",
            "400\n"
          ]
        }
      ]
    }
  ]
}