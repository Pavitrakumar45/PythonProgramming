{
  "nbformat": 4,
  "nbformat_minor": 0,
  "metadata": {
    "colab": {
      "provenance": [],
      "authorship_tag": "ABX9TyOu+JLOtNYzwgo4EJe+EFof",
      "include_colab_link": true
    },
    "kernelspec": {
      "name": "python3",
      "display_name": "Python 3"
    },
    "language_info": {
      "name": "python"
    }
  },
  "cells": [
    {
      "cell_type": "markdown",
      "metadata": {
        "id": "view-in-github",
        "colab_type": "text"
      },
      "source": [
        "<a href=\"https://colab.research.google.com/github/Pavitrakumar45/PythonProgramming/blob/main/Function_Definition.ipynb\" target=\"_parent\"><img src=\"https://colab.research.google.com/assets/colab-badge.svg\" alt=\"Open In Colab\"/></a>"
      ]
    },
    {
      "cell_type": "code",
      "execution_count": null,
      "metadata": {
        "colab": {
          "base_uri": "https://localhost:8080/"
        },
        "id": "AB6Wqn-aqd6B",
        "outputId": "f5283b1b-15d8-41c9-f7c6-e3b61919f710"
      },
      "outputs": [
        {
          "output_type": "stream",
          "name": "stdout",
          "text": [
            "300\n"
          ]
        }
      ],
      "source": [
        "def sum():    # Sum Function Definition\n",
        "    num1 = 100\n",
        "    num2 = 200\n",
        "    num3 = num1+num2\n",
        "    return num3\n",
        "\n",
        "ans = sum()\n",
        "\n",
        "print(ans)"
      ]
    },
    {
      "cell_type": "code",
      "source": [
        "i = 10\n",
        "\n",
        "for i in range(0,10):\n",
        "  print(i)\n",
        "\n",
        "\n",
        "\n",
        "print(i)"
      ],
      "metadata": {
        "colab": {
          "base_uri": "https://localhost:8080/"
        },
        "id": "qNp9Ztqfqgy1",
        "outputId": "172f3d56-0a34-403c-9ab2-26b796f52542"
      },
      "execution_count": null,
      "outputs": [
        {
          "output_type": "stream",
          "name": "stdout",
          "text": [
            "0\n",
            "1\n",
            "2\n",
            "3\n",
            "4\n",
            "5\n",
            "6\n",
            "7\n",
            "8\n",
            "9\n",
            "9\n"
          ]
        }
      ]
    },
    {
      "cell_type": "code",
      "source": [
        "a = 1000\n",
        "\n",
        "def value():\n",
        "  a = 2000\n",
        "\n",
        "\n",
        "  return a\n",
        "b = value()\n",
        "print(a)\n",
        "print(b)"
      ],
      "metadata": {
        "colab": {
          "base_uri": "https://localhost:8080/"
        },
        "id": "fB6s_Et6qgql",
        "outputId": "dd6c2411-c1aa-472a-9f0e-bcf16a35df71"
      },
      "execution_count": null,
      "outputs": [
        {
          "output_type": "stream",
          "name": "stdout",
          "text": [
            "1000\n",
            "2000\n"
          ]
        }
      ]
    },
    {
      "cell_type": "code",
      "source": [
        "def calculator():\n",
        "  num1 = 1000\n",
        "  num2 = 25\n",
        "\n",
        "  return  num1+num2 , num1 - num2 , num1*num2 , num1/num2\n",
        "\n",
        "\n",
        "\n",
        "\n",
        "addition,subtraction, multiplication , division  = calculator()\n",
        "\n",
        "print(addition)\n",
        "print(subtraction)\n",
        "print(division)"
      ],
      "metadata": {
        "colab": {
          "base_uri": "https://localhost:8080/"
        },
        "id": "QbVm2sRRqgar",
        "outputId": "cceefb06-47b6-4504-8978-2b2cfc4c92d0"
      },
      "execution_count": null,
      "outputs": [
        {
          "output_type": "stream",
          "name": "stdout",
          "text": [
            "1025\n",
            "975\n",
            "40.0\n"
          ]
        }
      ]
    },
    {
      "cell_type": "code",
      "source": [
        "def calc(num1,num2):\n",
        "\n",
        "  return num1+num2 , num1 - num2 , num1*num2 , num1/num2\n",
        "\n",
        "\n",
        "addition,subtraction, multiplication , division  = calc(1000,25)\n",
        "\n",
        "print(addition)\n",
        "print(subtraction)\n",
        "print(division)\n",
        "print(multiplication)\n",
        "\n",
        "\n",
        "\n",
        "\n"
      ],
      "metadata": {
        "colab": {
          "base_uri": "https://localhost:8080/"
        },
        "id": "kDxOLyy06Huf",
        "outputId": "230673d3-bccf-4aee-8bc1-49403a3f03d3"
      },
      "execution_count": null,
      "outputs": [
        {
          "output_type": "stream",
          "name": "stdout",
          "text": [
            "1025\n",
            "975\n",
            "40.0\n",
            "25000\n"
          ]
        }
      ]
    },
    {
      "cell_type": "code",
      "source": [],
      "metadata": {
        "id": "dhUbm7Qc-H7F"
      },
      "execution_count": null,
      "outputs": []
    }
  ]
}