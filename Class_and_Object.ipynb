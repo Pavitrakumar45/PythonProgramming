{
  "nbformat": 4,
  "nbformat_minor": 0,
  "metadata": {
    "colab": {
      "provenance": [],
      "authorship_tag": "ABX9TyPGycCk+dsa39Zf4uhPK9fh",
      "include_colab_link": true
    },
    "kernelspec": {
      "name": "python3",
      "display_name": "Python 3"
    },
    "language_info": {
      "name": "python"
    }
  },
  "cells": [
    {
      "cell_type": "markdown",
      "metadata": {
        "id": "view-in-github",
        "colab_type": "text"
      },
      "source": [
        "<a href=\"https://colab.research.google.com/github/Pavitrakumar45/PythonProgramming/blob/main/Class_and_Object.ipynb\" target=\"_parent\"><img src=\"https://colab.research.google.com/assets/colab-badge.svg\" alt=\"Open In Colab\"/></a>"
      ]
    },
    {
      "cell_type": "code",
      "execution_count": 3,
      "metadata": {
        "colab": {
          "base_uri": "https://localhost:8080/"
        },
        "id": "HWDBtJukYweP",
        "outputId": "e827a832-eb2f-4c5d-a3eb-82e59f70e941"
      },
      "outputs": [
        {
          "output_type": "stream",
          "name": "stdout",
          "text": [
            "Hello World\n",
            "100\n"
          ]
        }
      ],
      "source": [
        " # Concept of  Class and Object\n",
        "\n",
        "\n",
        "\n",
        "class abc:\n",
        "  num = 100\n",
        "  print('Hello World')\n",
        "\n",
        "\n",
        "obj = abc()\n",
        "print(obj.num)"
      ]
    },
    {
      "cell_type": "code",
      "source": [
        "class abc:\n",
        "  num = 100\n",
        "  num2 = 400\n",
        "  print('Hello World')\n",
        "\n",
        "\n",
        "obj = abc()\n",
        "print(obj.num * obj.num2)"
      ],
      "metadata": {
        "colab": {
          "base_uri": "https://localhost:8080/"
        },
        "id": "rTtM7_2RbN2c",
        "outputId": "bae3c828-d305-4361-96a0-b30a9d94dbd5"
      },
      "execution_count": 4,
      "outputs": [
        {
          "output_type": "stream",
          "name": "stdout",
          "text": [
            "Hello World\n",
            "40000\n"
          ]
        }
      ]
    }
  ]
}