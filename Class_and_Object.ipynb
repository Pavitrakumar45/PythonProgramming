{
  "nbformat": 4,
  "nbformat_minor": 0,
  "metadata": {
    "colab": {
      "provenance": [],
      "authorship_tag": "ABX9TyOHRnd+E5f2ikDYmJLGzmvf",
      "include_colab_link": true
    },
    "kernelspec": {
      "name": "python3",
      "display_name": "Python 3"
    },
    "language_info": {
      "name": "python"
    }
  },
  "cells": [
    {
      "cell_type": "markdown",
      "metadata": {
        "id": "view-in-github",
        "colab_type": "text"
      },
      "source": [
        "<a href=\"https://colab.research.google.com/github/Pavitrakumar45/PythonProgramming/blob/main/Class_and_Object.ipynb\" target=\"_parent\"><img src=\"https://colab.research.google.com/assets/colab-badge.svg\" alt=\"Open In Colab\"/></a>"
      ]
    },
    {
      "cell_type": "code",
      "execution_count": null,
      "metadata": {
        "colab": {
          "base_uri": "https://localhost:8080/"
        },
        "id": "HWDBtJukYweP",
        "outputId": "e827a832-eb2f-4c5d-a3eb-82e59f70e941"
      },
      "outputs": [
        {
          "output_type": "stream",
          "name": "stdout",
          "text": [
            "Hello World\n",
            "100\n"
          ]
        }
      ],
      "source": [
        " # Concept of  Class and Object\n",
        "\n",
        "\n",
        "\n",
        "class abc:\n",
        "  num = 100\n",
        "  print('Hello World')\n",
        "\n",
        "\n",
        "obj = abc()\n",
        "print(obj.num)"
      ]
    },
    {
      "cell_type": "code",
      "source": [
        "class abc:\n",
        "  num = 100\n",
        "  num2 = 400\n",
        "  print('Hello World')\n",
        "\n",
        "\n",
        "obj = abc()\n",
        "print(obj.num * obj.num2)"
      ],
      "metadata": {
        "colab": {
          "base_uri": "https://localhost:8080/"
        },
        "id": "rTtM7_2RbN2c",
        "outputId": "bae3c828-d305-4361-96a0-b30a9d94dbd5"
      },
      "execution_count": null,
      "outputs": [
        {
          "output_type": "stream",
          "name": "stdout",
          "text": [
            "Hello World\n",
            "40000\n"
          ]
        }
      ]
    },
    {
      "cell_type": "code",
      "source": [
        "class abc:  # Class definition\n",
        "  print('Hii')\n",
        "\n",
        "\n",
        "obj = abc()   # Creating Object  ---> obj and calling abc()"
      ],
      "metadata": {
        "colab": {
          "base_uri": "https://localhost:8080/"
        },
        "id": "adqISlhTiOjU",
        "outputId": "960e34c7-6e31-47c6-ce84-e355b3c7a106"
      },
      "execution_count": null,
      "outputs": [
        {
          "output_type": "stream",
          "name": "stdout",
          "text": [
            "Hii\n"
          ]
        }
      ]
    },
    {
      "cell_type": "code",
      "source": [
        "class Myclass():\n",
        "  i = 12345    # Attribute\n",
        "\n",
        "\n",
        "  def f(self):  # Method\n",
        "      return 'Hello World'\n",
        "\n",
        "\n",
        "x = Myclass()\n",
        "\n",
        "print(x.i)"
      ],
      "metadata": {
        "colab": {
          "base_uri": "https://localhost:8080/"
        },
        "id": "rt0BCbSzkxKc",
        "outputId": "16842633-1e9b-4be9-a060-ca5a4e9b8080"
      },
      "execution_count": null,
      "outputs": [
        {
          "output_type": "stream",
          "name": "stdout",
          "text": [
            "12345\n"
          ]
        }
      ]
    },
    {
      "cell_type": "code",
      "source": [
        "## COnstructor : __init__\n",
        "\n",
        "class  abc:\n",
        "  def __init__(self,num1,num2):\n",
        "    self.num1 = 2000\n",
        "    self.num2 = 9000\n",
        "\n",
        "\n",
        "x = abc(100,200)\n",
        "\n",
        "print(x.num2)\n"
      ],
      "metadata": {
        "colab": {
          "base_uri": "https://localhost:8080/"
        },
        "id": "9uPVH6rGlMmI",
        "outputId": "6bbe01b7-22a3-4eb3-b97d-b0211c6daa61"
      },
      "execution_count": null,
      "outputs": [
        {
          "output_type": "stream",
          "name": "stdout",
          "text": [
            "9000\n"
          ]
        }
      ]
    },
    {
      "cell_type": "code",
      "source": [
        "class  abc:  # Class Definition\n",
        "  def __init__(self,num1,num2):\n",
        "    self.num1 = 2000             # Class Attribute\n",
        "    self.num2 = 9000             # Class Attribute\n",
        "\n",
        "  def show_data(self):            # Class Method\n",
        "    print(f'The value of num1 is {self.num1} and num2 is {self.num2}.')\n",
        "\n",
        "\n",
        "x = abc(100,200)                 # x is the object of class name abc\n",
        "\n",
        "print(x.num2)                    # calling attribute using dot operator\n",
        "print(x.show_data())             # calling method using dot operator\n",
        "\n",
        "\n",
        "\n"
      ],
      "metadata": {
        "colab": {
          "base_uri": "https://localhost:8080/"
        },
        "id": "tpvL7RZyqKPW",
        "outputId": "7d45c401-e350-43c4-ec58-7cb99d9b8c85"
      },
      "execution_count": null,
      "outputs": [
        {
          "output_type": "stream",
          "name": "stdout",
          "text": [
            "9000\n",
            "The value of num1 is 2000 and num2 is 9000.\n",
            "None\n"
          ]
        }
      ]
    },
    {
      "cell_type": "code",
      "source": [
        "class my_car:\n",
        "  def __init__(self,brand,model,colour,fuel_type):\n",
        "    self.brand = 'Bmw'\n",
        "    self.model = 'X5'\n",
        "    self.colour = 'White'\n",
        "    self.fuel_type = 'Petrol'\n",
        "\n",
        "  def show_data(self):\n",
        "      print(f'The details of car1 brand is {self.brand}, model is {self.model}, colour is {self.colour},fuel_type is {self.fuel_type}.')\n",
        "\n",
        "x = my_car(1,2,3,4)\n",
        "print(x.show_data())"
      ],
      "metadata": {
        "colab": {
          "base_uri": "https://localhost:8080/"
        },
        "id": "dDZIEhHJsyON",
        "outputId": "7614c60e-6663-44bd-92bb-6d631677367c"
      },
      "execution_count": null,
      "outputs": [
        {
          "output_type": "stream",
          "name": "stdout",
          "text": [
            "The details of car1 brand is Bmw, model is X5, colour is White,fuel_type is Petrol.\n",
            "None\n"
          ]
        }
      ]
    },
    {
      "cell_type": "code",
      "source": [
        "class bankinf:\n",
        "  def __init__(self,withdraw,balance):\n",
        "    self.withdraw = float(input('Enter the Amount : '))\n",
        "    self.balance = 10000\n",
        "\n",
        "\n",
        "  def balance(self):\n",
        "    if self.balance <= 0\n",
        "\n",
        "\n",
        "\n",
        "\n",
        "\n",
        "user = banking('Balance', 'Withdarw')\n",
        "\n",
        "\n"
      ],
      "metadata": {
        "colab": {
          "base_uri": "https://localhost:8080/",
          "height": 106
        },
        "id": "NmeIpG1AvcdL",
        "outputId": "5bd510a1-e6e5-42d0-8629-4e394b1e421f"
      },
      "execution_count": null,
      "outputs": [
        {
          "output_type": "error",
          "ename": "IndentationError",
          "evalue": "unexpected indent (<ipython-input-22-550491c9f76c>, line 8)",
          "traceback": [
            "\u001b[0;36m  File \u001b[0;32m\"<ipython-input-22-550491c9f76c>\"\u001b[0;36m, line \u001b[0;32m8\u001b[0m\n\u001b[0;31m    def balance(self):\u001b[0m\n\u001b[0m    ^\u001b[0m\n\u001b[0;31mIndentationError\u001b[0m\u001b[0;31m:\u001b[0m unexpected indent\n"
          ]
        }
      ]
    },
    {
      "cell_type": "code",
      "source": [
        "import logging\n",
        "logging.basicconfig()"
      ],
      "metadata": {
        "id": "xu5NYIK-5T9K"
      },
      "execution_count": null,
      "outputs": []
    },
    {
      "cell_type": "code",
      "source": [
        "# Concept Of Inheritance\n",
        "# Parent Class\n",
        "\n",
        "class animal:\n",
        "  def speak(self):\n",
        "    print('Animal Speaks')\n",
        "\n",
        "# Child class inherits from animal\n",
        "\n",
        "class dog(animal):\n",
        "  def bark(self):\n",
        "    print('Dog Barks')\n",
        "\n",
        "# Create an object of Dog\n",
        "\n",
        "d = dog()\n",
        "d.speak()\n",
        "d.bark()"
      ],
      "metadata": {
        "colab": {
          "base_uri": "https://localhost:8080/"
        },
        "id": "aY4y6NadxnLi",
        "outputId": "acf31a0c-efec-4af5-f079-6de6397f4443"
      },
      "execution_count": null,
      "outputs": [
        {
          "output_type": "stream",
          "name": "stdout",
          "text": [
            "Animal Speaks\n",
            "Dog Barks\n"
          ]
        }
      ]
    },
    {
      "cell_type": "code",
      "source": [
        "# Parent Class\n",
        "\n",
        "class BankAccount:\n",
        "  def __init__(self,balance):\n",
        "    self.balance = balance\n",
        "\n",
        "\n",
        "  def show_balance(self):\n",
        "    print(f'Current Balance : {self.balance}')\n",
        "\n",
        "  def withdraw(self,amount):\n",
        "    if amount > self.balance:\n",
        "      print('Insufficient balance!')\n",
        "    else:\n",
        "      self.balance -= amount\n",
        "      print(f'{amount} withdrawn successfully')\n",
        "\n",
        "\n",
        "class SavingsAccount(BankAccount):\n",
        "  def deposit(self,amount):\n",
        "    self.balance += amount\n",
        "    print(f'{amount} deposited succefully')\n",
        "\n",
        "\n",
        "\n",
        "my_account = SavingsAccount(10000)\n",
        "\n",
        "deposit_amount = float(input('Enter Amount to deposit : '))\n",
        "my_account.deposit(deposit_amount)\n",
        "\n",
        "withdraw_amount = float(input('Enter the amount withdraw : '))\n",
        "my_account.withdraw(withdraw_amount)\n",
        "\n",
        "my_account.show_balance()\n",
        "\n"
      ],
      "metadata": {
        "colab": {
          "base_uri": "https://localhost:8080/"
        },
        "id": "DPOwEl2-1PBb",
        "outputId": "b96200a3-601a-4417-f7ac-bbf4c9b25a42"
      },
      "execution_count": null,
      "outputs": [
        {
          "output_type": "stream",
          "name": "stdout",
          "text": [
            "Enter Amount to deposit : 50000\n",
            "50000.0 deposited succefully\n",
            "Enter the amount withdraw : 5230\n",
            "5230.0 withdrawn successfully\n",
            "Current Balance : 54770.0\n"
          ]
        }
      ]
    },
    {
      "cell_type": "code",
      "source": [
        " # POLYMORPHISM\n",
        "\n",
        " class Bear(object):\n",
        "  def sound(self):\n",
        "    print('Groarr')\n",
        "\n",
        " class Dog(object):\n",
        "  def sound(self):\n",
        "    print('Woof Woof')\n",
        "\n",
        "def makeSound(animaltype):\n",
        "  animaltype.sound()\n",
        "\n",
        "bearobj = Bear()\n",
        "dogobj = Dog()\n",
        "\n",
        "makeSound(bearobj)\n",
        "makeSound(dogobj)"
      ],
      "metadata": {
        "id": "DAvO8aRn6qcV",
        "colab": {
          "base_uri": "https://localhost:8080/"
        },
        "outputId": "9da27912-2ca5-425f-f049-7e0efdb1fe3f"
      },
      "execution_count": 3,
      "outputs": [
        {
          "output_type": "stream",
          "name": "stdout",
          "text": [
            "Groarr\n",
            "Woof Woof\n"
          ]
        }
      ]
    },
    {
      "cell_type": "code",
      "source": [
        "class Animal:\n",
        "  def speak(Self):\n",
        "    pass\n",
        "\n",
        "class Dog(Animal):\n",
        "  def speak(self):\n",
        "    return 'Woof!'\n",
        "\n",
        "class Cat(Animal):\n",
        "  def speak(self):\n",
        "    return 'Meow!'\n",
        "\n",
        "\n",
        "animals = [Dog(), Cat()]\n",
        "\n",
        "for animal in animals:\n",
        "  print(animal.speak())"
      ],
      "metadata": {
        "colab": {
          "base_uri": "https://localhost:8080/"
        },
        "id": "aQ20RfOaGD9h",
        "outputId": "22e0fefa-bc69-41ae-a5a1-4ceb593e0a7a"
      },
      "execution_count": 4,
      "outputs": [
        {
          "output_type": "stream",
          "name": "stdout",
          "text": [
            "Woof!\n",
            "Meow!\n"
          ]
        }
      ]
    },
    {
      "cell_type": "code",
      "source": [],
      "metadata": {
        "id": "0QaTsSiBEvI8"
      },
      "execution_count": null,
      "outputs": []
    }
  ]
}