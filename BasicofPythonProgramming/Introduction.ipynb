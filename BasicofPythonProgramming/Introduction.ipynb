{
 "cells": [
  {
   "cell_type": "markdown",
   "metadata": {},
   "source": [
    "# **Introduction to Python Programming**"
   ]
  },
  {
   "cell_type": "code",
   "execution_count": 1,
   "metadata": {},
   "outputs": [],
   "source": [
    "# Variable Assignment\n",
    "\n",
    "number  = 100\n",
    "number1 = 100.20\n",
    "str  = 'Hello World'\n",
    "\n",
    "num = '1234'\n",
    "\n",
    "num1,num2,num3 = 10,20,30"
   ]
  },
  {
   "cell_type": "code",
   "execution_count": 2,
   "metadata": {},
   "outputs": [
    {
     "name": "stdout",
     "output_type": "stream",
     "text": [
      "100\n"
     ]
    }
   ],
   "source": [
    "print(number)\n"
   ]
  },
  {
   "cell_type": "code",
   "execution_count": null,
   "metadata": {},
   "outputs": [
    {
     "ename": "NameError",
     "evalue": "name 'printtype' is not defined",
     "output_type": "error",
     "traceback": [
      "\u001b[1;31m---------------------------------------------------------------------------\u001b[0m",
      "\u001b[1;31mNameError\u001b[0m                                 Traceback (most recent call last)",
      "Cell \u001b[1;32mIn[4], line 3\u001b[0m\n\u001b[0;32m      1\u001b[0m \u001b[38;5;66;03m# checking datatype\u001b[39;00m\n\u001b[1;32m----> 3\u001b[0m printtype(number)\n",
      "\u001b[1;31mNameError\u001b[0m: name 'printtype' is not defined"
     ]
    }
   ],
   "source": [
    "# checking datatype\n",
    "\n",
    "print(type(number))"
   ]
  },
  {
   "cell_type": "code",
   "execution_count": 5,
   "metadata": {},
   "outputs": [
    {
     "name": "stdout",
     "output_type": "stream",
     "text": [
      "<class 'int'>\n",
      "<class 'float'>\n",
      "<class 'str'>\n"
     ]
    }
   ],
   "source": [
    "print(type(number))\n",
    "print(type(number1))\n",
    "print(type(str))"
   ]
  },
  {
   "cell_type": "code",
   "execution_count": 6,
   "metadata": {},
   "outputs": [
    {
     "name": "stdout",
     "output_type": "stream",
     "text": [
      "<class 'str'>\n"
     ]
    }
   ],
   "source": [
    "print(type(num))"
   ]
  },
  {
   "cell_type": "code",
   "execution_count": 9,
   "metadata": {},
   "outputs": [],
   "source": [
    "num1,num2,num3,_ = 100,200,300,400\n"
   ]
  },
  {
   "cell_type": "code",
   "execution_count": 8,
   "metadata": {},
   "outputs": [
    {
     "ename": "NameError",
     "evalue": "name 'n1' is not defined",
     "output_type": "error",
     "traceback": [
      "\u001b[1;31m---------------------------------------------------------------------------\u001b[0m",
      "\u001b[1;31mNameError\u001b[0m                                 Traceback (most recent call last)",
      "Cell \u001b[1;32mIn[8], line 1\u001b[0m\n\u001b[1;32m----> 1\u001b[0m n1,n2,n3,\n",
      "\u001b[1;31mNameError\u001b[0m: name 'n1' is not defined"
     ]
    }
   ],
   "source": [
    "n1,n2,n3,# = 100,200,300"
   ]
  },
  {
   "cell_type": "code",
   "execution_count": 10,
   "metadata": {},
   "outputs": [
    {
     "name": "stdout",
     "output_type": "stream",
     "text": [
      "the variable name number is  100\n"
     ]
    }
   ],
   "source": [
    "print('the variable name number is ',number)"
   ]
  },
  {
   "cell_type": "code",
   "execution_count": 11,
   "metadata": {},
   "outputs": [
    {
     "name": "stdout",
     "output_type": "stream",
     "text": [
      "The addition of Number1 and Number2 is 3000\n"
     ]
    }
   ],
   "source": [
    "number1 = 1000 \n",
    "number2 = 2000\n",
    "number3 = number1 + number2\n",
    "\n",
    "print('The addition of Number1 and Number2 is',number3)"
   ]
  },
  {
   "cell_type": "code",
   "execution_count": 12,
   "metadata": {},
   "outputs": [
    {
     "name": "stdout",
     "output_type": "stream",
     "text": [
      "The Subtraction of Number1 and Number2 is -1000\n"
     ]
    }
   ],
   "source": [
    "number1 = 1000 \n",
    "number2 = 2000\n",
    "number3 = number1 - number2\n",
    "\n",
    "print('The Subtraction of Number1 and Number2 is',number3)"
   ]
  },
  {
   "cell_type": "code",
   "execution_count": 13,
   "metadata": {},
   "outputs": [
    {
     "name": "stdout",
     "output_type": "stream",
     "text": [
      "The Multiplication of Number1 and Number2 is 2000000\n"
     ]
    }
   ],
   "source": [
    "number1 = 1000 \n",
    "number2 = 2000\n",
    "number3 = number1 * number2\n",
    "\n",
    "print('The Multiplication of Number1 and Number2 is',number3)"
   ]
  },
  {
   "cell_type": "code",
   "execution_count": 14,
   "metadata": {},
   "outputs": [
    {
     "name": "stdout",
     "output_type": "stream",
     "text": [
      "The division of Number1 and Number2 is 2.0\n"
     ]
    }
   ],
   "source": [
    "number1 = 1000 \n",
    "number2 = 2000\n",
    "number3 = number2 / number1\n",
    "\n",
    "print('The division of Number1 and Number2 is',number3)"
   ]
  },
  {
   "cell_type": "code",
   "execution_count": null,
   "metadata": {},
   "outputs": [
    {
     "name": "stdout",
     "output_type": "stream",
     "text": [
      "The division of Number1 and Number2 is 2\n"
     ]
    }
   ],
   "source": [
    "# Floor Division\n",
    "\n",
    "number1 = 1000 \n",
    "number2 = 2000\n",
    "number3 = number2 // number1\n",
    "\n",
    "print('The division of Number1 and Number2 is',number3)"
   ]
  },
  {
   "cell_type": "code",
   "execution_count": 16,
   "metadata": {},
   "outputs": [
    {
     "ename": "TypeError",
     "evalue": "unsupported operand type(s) for +: 'int' and 'str'",
     "output_type": "error",
     "traceback": [
      "\u001b[1;31m---------------------------------------------------------------------------\u001b[0m",
      "\u001b[1;31mTypeError\u001b[0m                                 Traceback (most recent call last)",
      "Cell \u001b[1;32mIn[16], line 4\u001b[0m\n\u001b[0;32m      1\u001b[0m num \u001b[38;5;241m=\u001b[39m \u001b[38;5;241m100\u001b[39m\n\u001b[0;32m      2\u001b[0m num1 \u001b[38;5;241m=\u001b[39m \u001b[38;5;124m'\u001b[39m\u001b[38;5;124m1234\u001b[39m\u001b[38;5;124m'\u001b[39m \n\u001b[1;32m----> 4\u001b[0m \u001b[38;5;28mprint\u001b[39m(\u001b[38;5;124m'\u001b[39m\u001b[38;5;124mAddition of num and num1:\u001b[39m\u001b[38;5;124m'\u001b[39m, (num \u001b[38;5;241m+\u001b[39m num1))\n",
      "\u001b[1;31mTypeError\u001b[0m: unsupported operand type(s) for +: 'int' and 'str'"
     ]
    }
   ],
   "source": [
    "num = 100\n",
    "num1 = '1234' \n",
    "\n",
    "print('Addition of num and num1:', (num + num1))"
   ]
  },
  {
   "cell_type": "code",
   "execution_count": 17,
   "metadata": {},
   "outputs": [
    {
     "name": "stdout",
     "output_type": "stream",
     "text": [
      "Addition of num and num1: 12341234\n"
     ]
    }
   ],
   "source": [
    "num = 2\n",
    "num1 = '1234' \n",
    "\n",
    "print('Addition of num and num1:', (num * num1))"
   ]
  },
  {
   "cell_type": "code",
   "execution_count": 1,
   "metadata": {},
   "outputs": [
    {
     "name": "stdout",
     "output_type": "stream",
     "text": [
      "67\n"
     ]
    }
   ],
   "source": [
    "number = input('enter the number : ')\n",
    "print(number)"
   ]
  },
  {
   "cell_type": "code",
   "execution_count": 2,
   "metadata": {},
   "outputs": [
    {
     "name": "stdout",
     "output_type": "stream",
     "text": [
      "Pavitra\n"
     ]
    }
   ],
   "source": [
    "name = input('Enter the name : ')\n",
    "print(name)"
   ]
  },
  {
   "cell_type": "code",
   "execution_count": null,
   "metadata": {},
   "outputs": [
    {
     "name": "stdout",
     "output_type": "stream",
     "text": [
      "25\n",
      "<class 'int'>\n"
     ]
    }
   ],
   "source": [
    "# Type Casting\n",
    "\n",
    "num = int(input('Enter the Number : '))\n",
    "\n",
    "print(num)\n",
    "print(type(num)) # Type casting from strinf to integer\n"
   ]
  },
  {
   "cell_type": "code",
   "execution_count": null,
   "metadata": {},
   "outputs": [
    {
     "name": "stdout",
     "output_type": "stream",
     "text": [
      "The sum of Two Number is  333\n"
     ]
    }
   ],
   "source": [
    "# Addition of two numbers\n",
    "\n",
    "num1 = int(input('Enter the first Number : '))\n",
    "\n",
    "num2 = int(input('Enter the Second Number : '))\n",
    "\n",
    "num3 = num1 + num2\n",
    "\n",
    "\n",
    "print('The sum of Two Number is ',num3)\n"
   ]
  },
  {
   "cell_type": "code",
   "execution_count": 5,
   "metadata": {},
   "outputs": [
    {
     "name": "stdout",
     "output_type": "stream",
     "text": [
      "The sum of Two Number is  333.48\n"
     ]
    }
   ],
   "source": [
    "num1 = float(input('Enter the First Number : '))\n",
    "\n",
    "num2 = float(input('Enter the Second Number : '))\n",
    "\n",
    "num3 = num1 + num2\n",
    "\n",
    "\n",
    "print('The sum of Two Number is ',num3)"
   ]
  },
  {
   "cell_type": "code",
   "execution_count": null,
   "metadata": {},
   "outputs": [],
   "source": [
    "# Data Structure in Python \n",
    "\n"
   ]
  }
 ],
 "metadata": {
  "kernelspec": {
   "display_name": "base",
   "language": "python",
   "name": "python3"
  },
  "language_info": {
   "codemirror_mode": {
    "name": "ipython",
    "version": 3
   },
   "file_extension": ".py",
   "mimetype": "text/x-python",
   "name": "python",
   "nbconvert_exporter": "python",
   "pygments_lexer": "ipython3",
   "version": "3.12.7"
  }
 },
 "nbformat": 4,
 "nbformat_minor": 2
}
