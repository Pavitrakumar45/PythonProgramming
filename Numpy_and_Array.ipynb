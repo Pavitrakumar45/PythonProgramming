{
  "nbformat": 4,
  "nbformat_minor": 0,
  "metadata": {
    "colab": {
      "provenance": [],
      "authorship_tag": "ABX9TyO32yTWunxt3Y3B5fFX8MgW",
      "include_colab_link": true
    },
    "kernelspec": {
      "name": "python3",
      "display_name": "Python 3"
    },
    "language_info": {
      "name": "python"
    }
  },
  "cells": [
    {
      "cell_type": "markdown",
      "metadata": {
        "id": "view-in-github",
        "colab_type": "text"
      },
      "source": [
        "<a href=\"https://colab.research.google.com/github/Pavitrakumar45/PythonProgramming/blob/main/Numpy_and_Array.ipynb\" target=\"_parent\"><img src=\"https://colab.research.google.com/assets/colab-badge.svg\" alt=\"Open In Colab\"/></a>"
      ]
    },
    {
      "cell_type": "code",
      "execution_count": 1,
      "metadata": {
        "id": "iKdzOGKnyRgH"
      },
      "outputs": [],
      "source": [
        " # Import Numpy Library\n",
        "\n",
        " import numpy as np\n"
      ]
    },
    {
      "cell_type": "code",
      "source": [
        "# Array Definition\n",
        "\n",
        "lst = [10,20,30]\n",
        "\n",
        "print(type(lst))"
      ],
      "metadata": {
        "colab": {
          "base_uri": "https://localhost:8080/"
        },
        "id": "mRXIc6SD4fxe",
        "outputId": "a2ba4707-ef1a-4e29-8a2d-39a1e8f96db7"
      },
      "execution_count": 2,
      "outputs": [
        {
          "output_type": "stream",
          "name": "stdout",
          "text": [
            "<class 'list'>\n"
          ]
        }
      ]
    },
    {
      "cell_type": "code",
      "source": [
        "# Numpy array definition\n",
        "\n",
        "arr = np.array(lst)\n",
        "\n",
        "print(type(arr))"
      ],
      "metadata": {
        "colab": {
          "base_uri": "https://localhost:8080/"
        },
        "id": "Y9J3OSf34uJv",
        "outputId": "0a5955d2-c023-48ee-a5be-d82d03ceaf05"
      },
      "execution_count": 3,
      "outputs": [
        {
          "output_type": "stream",
          "name": "stdout",
          "text": [
            "<class 'numpy.ndarray'>\n"
          ]
        }
      ]
    },
    {
      "cell_type": "code",
      "source": [
        "# Array Definition\n",
        "\n",
        "lst1 = [[10,20,30,40,50]]"
      ],
      "metadata": {
        "id": "Xcgmz9yR6of6"
      },
      "execution_count": 4,
      "outputs": []
    },
    {
      "cell_type": "code",
      "source": [
        "arry1 = np.array(lst1)\n",
        "\n",
        "print(type(arry1))"
      ],
      "metadata": {
        "colab": {
          "base_uri": "https://localhost:8080/"
        },
        "id": "uYtVantj60Ae",
        "outputId": "4251c9f1-be85-4ff4-a0c3-c322b642b1d8"
      },
      "execution_count": 5,
      "outputs": [
        {
          "output_type": "stream",
          "name": "stdout",
          "text": [
            "<class 'numpy.ndarray'>\n"
          ]
        }
      ]
    },
    {
      "cell_type": "code",
      "source": [
        "# Checking Shape\n",
        "\n",
        "print(arry1.shape)"
      ],
      "metadata": {
        "colab": {
          "base_uri": "https://localhost:8080/"
        },
        "id": "F2iusk8769wY",
        "outputId": "daac9b01-d8d3-451d-a632-f6e5f205f39e"
      },
      "execution_count": 6,
      "outputs": [
        {
          "output_type": "stream",
          "name": "stdout",
          "text": [
            "(1, 5)\n"
          ]
        }
      ]
    },
    {
      "cell_type": "code",
      "source": [
        "darray = [[[10,20,30],[60,70,80]]]\n",
        "\n",
        "array = np.array(darray)\n",
        "print(array.shape)"
      ],
      "metadata": {
        "colab": {
          "base_uri": "https://localhost:8080/"
        },
        "id": "_bcn3aPb8K1H",
        "outputId": "8dc238e5-de58-46b7-873d-b952e932c1ba"
      },
      "execution_count": 7,
      "outputs": [
        {
          "output_type": "stream",
          "name": "stdout",
          "text": [
            "(1, 2, 3)\n"
          ]
        }
      ]
    },
    {
      "cell_type": "code",
      "source": [
        "tarray = [[10,20,30],[40,50,60]]\n",
        "\n",
        "array = np.array(tarray)\n",
        "print(array.shape)"
      ],
      "metadata": {
        "colab": {
          "base_uri": "https://localhost:8080/"
        },
        "id": "AH1aZZLu-Ivn",
        "outputId": "f090a312-c366-4767-d69f-5217d80caa14"
      },
      "execution_count": 8,
      "outputs": [
        {
          "output_type": "stream",
          "name": "stdout",
          "text": [
            "(2, 3)\n"
          ]
        }
      ]
    },
    {
      "cell_type": "code",
      "source": [
        "# Checking dimension for array\n",
        "\n",
        "lst =[10,20,40]\n",
        "\n",
        "array = np.array(lst)\n",
        "\n",
        "print(array.ndim)"
      ],
      "metadata": {
        "colab": {
          "base_uri": "https://localhost:8080/"
        },
        "id": "XCaoLPu_-1Jg",
        "outputId": "5f2e00a8-c6e4-49e8-f8d3-6bd9190f1bb8"
      },
      "execution_count": 9,
      "outputs": [
        {
          "output_type": "stream",
          "name": "stdout",
          "text": [
            "1\n"
          ]
        }
      ]
    },
    {
      "cell_type": "code",
      "source": [
        "lst =[[10,20,40]]\n",
        "\n",
        "array = np.array(lst)\n",
        "\n",
        "print(array.ndim)"
      ],
      "metadata": {
        "colab": {
          "base_uri": "https://localhost:8080/"
        },
        "id": "29R6HDLO_IbR",
        "outputId": "4a6d7117-3aea-43c1-9ac4-884d2254f06c"
      },
      "execution_count": 10,
      "outputs": [
        {
          "output_type": "stream",
          "name": "stdout",
          "text": [
            "2\n"
          ]
        }
      ]
    },
    {
      "cell_type": "code",
      "source": [
        "lst =[[[10,20,40]]]\n",
        "\n",
        "array = np.array(lst)\n",
        "\n",
        "print(array.ndim)"
      ],
      "metadata": {
        "colab": {
          "base_uri": "https://localhost:8080/"
        },
        "id": "HpcXEdnI_L0B",
        "outputId": "23ab65ea-c0c2-40e4-e209-3e3bbd3b96d5"
      },
      "execution_count": 11,
      "outputs": [
        {
          "output_type": "stream",
          "name": "stdout",
          "text": [
            "3\n"
          ]
        }
      ]
    },
    {
      "cell_type": "code",
      "source": [
        "zeros = np.zeros((3,4))      # it idicate 3 rows and 4 columns\n",
        "\n",
        "print(zeros)\n",
        "print(zeros.size)"
      ],
      "metadata": {
        "colab": {
          "base_uri": "https://localhost:8080/"
        },
        "id": "DMhh5gdC_kJi",
        "outputId": "42b51cb7-dafa-4685-b118-31368379d54b"
      },
      "execution_count": 12,
      "outputs": [
        {
          "output_type": "stream",
          "name": "stdout",
          "text": [
            "[[0. 0. 0. 0.]\n",
            " [0. 0. 0. 0.]\n",
            " [0. 0. 0. 0.]]\n",
            "12\n"
          ]
        }
      ]
    },
    {
      "cell_type": "code",
      "source": [
        "zeros.T    # Transpose matrix of zeros"
      ],
      "metadata": {
        "colab": {
          "base_uri": "https://localhost:8080/"
        },
        "id": "vyzk6hrq-xEU",
        "outputId": "40ea8e9b-155f-400c-b1b7-cab39558726d"
      },
      "execution_count": 13,
      "outputs": [
        {
          "output_type": "execute_result",
          "data": {
            "text/plain": [
              "array([[0., 0., 0.],\n",
              "       [0., 0., 0.],\n",
              "       [0., 0., 0.],\n",
              "       [0., 0., 0.]])"
            ]
          },
          "metadata": {},
          "execution_count": 13
        }
      ]
    },
    {
      "cell_type": "code",
      "source": [
        "ones = np.ones((3,4))\n",
        "print(ones)"
      ],
      "metadata": {
        "colab": {
          "base_uri": "https://localhost:8080/"
        },
        "id": "NqxFeAyABKG5",
        "outputId": "38ab1af3-7c30-4c68-ad21-37b432e6307e"
      },
      "execution_count": 14,
      "outputs": [
        {
          "output_type": "stream",
          "name": "stdout",
          "text": [
            "[[1. 1. 1. 1.]\n",
            " [1. 1. 1. 1.]\n",
            " [1. 1. 1. 1.]]\n"
          ]
        }
      ]
    },
    {
      "cell_type": "code",
      "source": [
        "ones = np.array(ones)\n",
        "\n",
        "'''\n",
        "whenever we use numpy array ,by default the array contains float value\n",
        "\n",
        "size = m*n where m = no of rows and n = no of columns\n",
        "\n",
        "'''\n",
        "print(ones.sum())\n",
        "print(ones.sum(axis = 0))    # this will perform operation column wise\n",
        "print(ones.sum(axis = 1))    # this will perform operation row wise"
      ],
      "metadata": {
        "colab": {
          "base_uri": "https://localhost:8080/"
        },
        "id": "Fpaw9xWpAfGQ",
        "outputId": "586ad1e7-34d1-4159-8a56-5bd187c6686c"
      },
      "execution_count": 15,
      "outputs": [
        {
          "output_type": "stream",
          "name": "stdout",
          "text": [
            "12.0\n",
            "[3. 3. 3. 3.]\n",
            "[4. 4. 4.]\n"
          ]
        }
      ]
    },
    {
      "cell_type": "code",
      "source": [
        "eye = np.eye(4)\n",
        "print(eye)     # Kernel Filter"
      ],
      "metadata": {
        "colab": {
          "base_uri": "https://localhost:8080/"
        },
        "id": "xdIhO3TWBUa4",
        "outputId": "e435df66-89b6-491a-ef8e-8d231a7b574b"
      },
      "execution_count": 16,
      "outputs": [
        {
          "output_type": "stream",
          "name": "stdout",
          "text": [
            "[[1. 0. 0. 0.]\n",
            " [0. 1. 0. 0.]\n",
            " [0. 0. 1. 0.]\n",
            " [0. 0. 0. 1.]]\n"
          ]
        }
      ]
    },
    {
      "cell_type": "code",
      "source": [],
      "metadata": {
        "id": "KmqsBYiiAgFQ"
      },
      "execution_count": 16,
      "outputs": []
    },
    {
      "cell_type": "code",
      "source": [
        "# Aggregate Function\n",
        "\n",
        "lst = [10,20,30,40]\n",
        "\n",
        "a = np.array(lst)\n",
        "\n",
        "print(a.sum())\n",
        "print(a.max())\n",
        "print(a.min())\n",
        "print(a.var())\n",
        "print(a.std())"
      ],
      "metadata": {
        "colab": {
          "base_uri": "https://localhost:8080/"
        },
        "id": "YyzgbzqgBfkc",
        "outputId": "9a494046-243f-49da-bedf-5ab6328c64e2"
      },
      "execution_count": 17,
      "outputs": [
        {
          "output_type": "stream",
          "name": "stdout",
          "text": [
            "100\n",
            "40\n",
            "10\n",
            "125.0\n",
            "11.180339887498949\n"
          ]
        }
      ]
    },
    {
      "cell_type": "code",
      "source": [
        "array1 = np.array([[10,20,30],[40,50,60]])\n",
        "array2 = np.array([[10,20,30],[40,50,60]])\n",
        "\n",
        "array3 = array1 + array2\n",
        "print(array3)"
      ],
      "metadata": {
        "colab": {
          "base_uri": "https://localhost:8080/"
        },
        "id": "xuRuLgCc88ik",
        "outputId": "02aa9f9e-067e-4a3b-b7b0-715a05666870"
      },
      "execution_count": 18,
      "outputs": [
        {
          "output_type": "stream",
          "name": "stdout",
          "text": [
            "[[ 20  40  60]\n",
            " [ 80 100 120]]\n"
          ]
        }
      ]
    },
    {
      "cell_type": "code",
      "source": [
        "a = array3.sum(axis = 0)\n",
        "b = array3.sum(axis = 1)\n",
        "print(a)\n",
        "print(b)"
      ],
      "metadata": {
        "colab": {
          "base_uri": "https://localhost:8080/"
        },
        "id": "Ap3wumxhEx_L",
        "outputId": "7ab5617f-b453-4f01-874a-cf4c29c114ba"
      },
      "execution_count": 19,
      "outputs": [
        {
          "output_type": "stream",
          "name": "stdout",
          "text": [
            "[100 140 180]\n",
            "[120 300]\n"
          ]
        }
      ]
    },
    {
      "cell_type": "code",
      "source": [
        "a = np.array([[1,2,3,4,5,6],[10,20,30,40,50,60],[100,200,300,400,500,600],[1000,2000,3000,4000,5000,6000]])\n",
        "\n",
        "print(a[:,:])"
      ],
      "metadata": {
        "colab": {
          "base_uri": "https://localhost:8080/"
        },
        "id": "66y_aQd4F3YS",
        "outputId": "b2424f49-39ba-463d-8b16-c22f1dbec781"
      },
      "execution_count": 20,
      "outputs": [
        {
          "output_type": "stream",
          "name": "stdout",
          "text": [
            "[[   1    2    3    4    5    6]\n",
            " [  10   20   30   40   50   60]\n",
            " [ 100  200  300  400  500  600]\n",
            " [1000 2000 3000 4000 5000 6000]]\n"
          ]
        }
      ]
    },
    {
      "cell_type": "code",
      "source": [
        "print(a[1:2,:2])"
      ],
      "metadata": {
        "colab": {
          "base_uri": "https://localhost:8080/"
        },
        "id": "WeHp0SIyHSav",
        "outputId": "56dc3361-61bc-4ac5-892b-58a9f1dbd289"
      },
      "execution_count": 21,
      "outputs": [
        {
          "output_type": "stream",
          "name": "stdout",
          "text": [
            "[[10 20]]\n"
          ]
        }
      ]
    },
    {
      "cell_type": "code",
      "source": [
        "print(a[2:,3:5])"
      ],
      "metadata": {
        "colab": {
          "base_uri": "https://localhost:8080/"
        },
        "id": "nMRSZ5CIIcGZ",
        "outputId": "dc82c5de-417b-4c40-e616-398e8e42b072"
      },
      "execution_count": 22,
      "outputs": [
        {
          "output_type": "stream",
          "name": "stdout",
          "text": [
            "[[ 400  500]\n",
            " [4000 5000]]\n"
          ]
        }
      ]
    },
    {
      "cell_type": "code",
      "source": [
        "print(a[2:,4:])"
      ],
      "metadata": {
        "colab": {
          "base_uri": "https://localhost:8080/"
        },
        "id": "HEg4InjgJtop",
        "outputId": "7a07af4f-6391-420a-97bd-ede1490d8679"
      },
      "execution_count": 23,
      "outputs": [
        {
          "output_type": "stream",
          "name": "stdout",
          "text": [
            "[[ 500  600]\n",
            " [5000 6000]]\n"
          ]
        }
      ]
    },
    {
      "cell_type": "code",
      "source": [
        "print(a[:1,2:4])"
      ],
      "metadata": {
        "colab": {
          "base_uri": "https://localhost:8080/"
        },
        "id": "2HzbwxjgKPc4",
        "outputId": "a3de17cf-4164-4301-d7e9-aa994a44fa3f"
      },
      "execution_count": 24,
      "outputs": [
        {
          "output_type": "stream",
          "name": "stdout",
          "text": [
            "[[3 4]]\n"
          ]
        }
      ]
    },
    {
      "cell_type": "code",
      "source": [
        "# Question\n",
        "\n",
        "a = np.array([[1,2,3],[4,5,6],[7,8,9]])\n",
        "b = np.array([[2,0,0],[0,2,0],[0,0,2]]).T\n",
        "c = a*b"
      ],
      "metadata": {
        "id": "vcJnQkZTLsO6"
      },
      "execution_count": 25,
      "outputs": []
    },
    {
      "cell_type": "code",
      "source": [
        "print(c.ndim)\n",
        "print(c.size)\n",
        "print(c.shape)\n",
        "print(c)\n"
      ],
      "metadata": {
        "colab": {
          "base_uri": "https://localhost:8080/"
        },
        "id": "Bls-Pug_MR9N",
        "outputId": "16a6fc88-0da3-45fc-c83c-34d129df3c0e"
      },
      "execution_count": 26,
      "outputs": [
        {
          "output_type": "stream",
          "name": "stdout",
          "text": [
            "2\n",
            "9\n",
            "(3, 3)\n",
            "[[ 2  0  0]\n",
            " [ 0 10  0]\n",
            " [ 0  0 18]]\n"
          ]
        }
      ]
    },
    {
      "cell_type": "code",
      "source": [
        "a = np.array([[1,2,3],[4,5,6],[7,8,9]])\n",
        "b = np.array([[2,0,0],[0,2,0],[0,0,2],[1,2,3]]).T\n",
        "c = a@b\n",
        "d = np.dot(a,b)\n",
        "print(c)\n",
        "\n",
        "print(d)"
      ],
      "metadata": {
        "colab": {
          "base_uri": "https://localhost:8080/"
        },
        "id": "TnnkG9eVO0ah",
        "outputId": "2e72d73c-e975-4144-866c-23caf1b4245e"
      },
      "execution_count": 27,
      "outputs": [
        {
          "output_type": "stream",
          "name": "stdout",
          "text": [
            "[[ 2  4  6 14]\n",
            " [ 8 10 12 32]\n",
            " [14 16 18 50]]\n",
            "[[ 2  4  6 14]\n",
            " [ 8 10 12 32]\n",
            " [14 16 18 50]]\n"
          ]
        }
      ]
    },
    {
      "cell_type": "code",
      "source": [
        "num = np.array([[1,2,3],[4,5,6],[7,8,9],[10,11,12],[13,14,15]])\n",
        "print(num)"
      ],
      "metadata": {
        "colab": {
          "base_uri": "https://localhost:8080/"
        },
        "id": "PpVTBGkuGsuy",
        "outputId": "ec665441-695f-4391-9146-da1019b25bfb"
      },
      "execution_count": 28,
      "outputs": [
        {
          "output_type": "stream",
          "name": "stdout",
          "text": [
            "[[ 1  2  3]\n",
            " [ 4  5  6]\n",
            " [ 7  8  9]\n",
            " [10 11 12]\n",
            " [13 14 15]]\n"
          ]
        }
      ]
    },
    {
      "cell_type": "code",
      "source": [
        "print(num[1:3,1:2])"
      ],
      "metadata": {
        "colab": {
          "base_uri": "https://localhost:8080/"
        },
        "id": "nQ_9n28iIwpa",
        "outputId": "c86db3f5-4dcf-40e1-8943-eb90f2e20256"
      },
      "execution_count": 31,
      "outputs": [
        {
          "output_type": "stream",
          "name": "stdout",
          "text": [
            "[[5]\n",
            " [8]]\n"
          ]
        }
      ]
    },
    {
      "cell_type": "code",
      "source": [
        "'''\n",
        "ideal variance of data spread is one\n",
        "\n",
        " '''\n",
        "\n",
        "print(num.var())\n",
        "print(num.std())"
      ],
      "metadata": {
        "colab": {
          "base_uri": "https://localhost:8080/"
        },
        "id": "__DXdXt6IyWF",
        "outputId": "aefdf713-0b55-429b-acd0-9fcf66dadf4a"
      },
      "execution_count": 32,
      "outputs": [
        {
          "output_type": "stream",
          "name": "stdout",
          "text": [
            "18.666666666666668\n",
            "4.320493798938574\n"
          ]
        }
      ]
    },
    {
      "cell_type": "code",
      "source": [
        "# Pandas Library\n",
        "\n",
        "import pandas as pd\n",
        "# pandas = Library\n",
        "# pd = Alias Name\n",
        "\n",
        "b = np.array([10,20,30,40])  # Numpy Array\n",
        "\n",
        "a = pd.Series(b)      # 1D array using Pandas function\n",
        "print(a)"
      ],
      "metadata": {
        "colab": {
          "base_uri": "https://localhost:8080/"
        },
        "id": "-0cM-_UFMi_d",
        "outputId": "3bcb3119-7e96-4b0e-d12b-df98d194c64b"
      },
      "execution_count": 33,
      "outputs": [
        {
          "output_type": "stream",
          "name": "stdout",
          "text": [
            "0    10\n",
            "1    20\n",
            "2    30\n",
            "3    40\n",
            "dtype: int64\n"
          ]
        }
      ]
    },
    {
      "cell_type": "code",
      "source": [
        "print(b)"
      ],
      "metadata": {
        "colab": {
          "base_uri": "https://localhost:8080/"
        },
        "id": "NqZyk0jKR9PY",
        "outputId": "09002f8b-f5f3-49f5-a204-11fa0a684cda"
      },
      "execution_count": 34,
      "outputs": [
        {
          "output_type": "stream",
          "name": "stdout",
          "text": [
            "[10 20 30 40]\n"
          ]
        }
      ]
    },
    {
      "cell_type": "code",
      "source": [
        "b = np.array([10,20,30,40])  # Numpy Array\n",
        "\n",
        "a = pd.Series(b, index = ['IND','USA','UK','AUS'] )      # 1D array using Pandas function\n",
        "print(a)"
      ],
      "metadata": {
        "colab": {
          "base_uri": "https://localhost:8080/"
        },
        "id": "utaogKdWS_3i",
        "outputId": "e2ee2f58-9b76-48f0-b1e8-a2f5990deff4"
      },
      "execution_count": 35,
      "outputs": [
        {
          "output_type": "stream",
          "name": "stdout",
          "text": [
            "IND    10\n",
            "USA    20\n",
            "UK     30\n",
            "AUS    40\n",
            "dtype: int64\n"
          ]
        }
      ]
    },
    {
      "cell_type": "code",
      "source": [
        "print(a['UK'])"
      ],
      "metadata": {
        "colab": {
          "base_uri": "https://localhost:8080/"
        },
        "id": "QDE3goTvUDcM",
        "outputId": "87870adf-3327-489b-a86e-d8d6191fb043"
      },
      "execution_count": 37,
      "outputs": [
        {
          "output_type": "stream",
          "name": "stdout",
          "text": [
            "30\n"
          ]
        }
      ]
    },
    {
      "cell_type": "code",
      "source": [],
      "metadata": {
        "id": "DLS82Nk2UGvB"
      },
      "execution_count": null,
      "outputs": []
    }
  ]
}